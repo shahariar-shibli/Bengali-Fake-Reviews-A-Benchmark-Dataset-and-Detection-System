{
  "cells": [
    {
      "cell_type": "code",
      "execution_count": null,
      "metadata": {
        "colab": {
          "base_uri": "https://localhost:8080/"
        },
        "id": "MD_CGqiUxf_o",
        "outputId": "4dd775ed-085f-43dd-ac3f-a969066fbd48"
      },
      "outputs": [
        {
          "output_type": "stream",
          "name": "stdout",
          "text": [
            "Looking in indexes: https://pypi.org/simple, https://us-python.pkg.dev/colab-wheels/public/simple/\n",
            "Collecting neattext\n",
            "  Downloading neattext-0.1.3-py3-none-any.whl (114 kB)\n",
            "\u001b[2K     \u001b[90m━━━━━━━━━━━━━━━━━━━━━━━━━━━━━━━━━━━━━━━\u001b[0m \u001b[32m114.7/114.7 kB\u001b[0m \u001b[31m6.1 MB/s\u001b[0m eta \u001b[36m0:00:00\u001b[0m\n",
            "\u001b[?25hInstalling collected packages: neattext\n",
            "Successfully installed neattext-0.1.3\n"
          ]
        }
      ],
      "source": [
        "pip install neattext"
      ]
    },
    {
      "cell_type": "code",
      "execution_count": null,
      "metadata": {
        "id": "iAAveYt4QQr0"
      },
      "outputs": [],
      "source": [
        "import re\n",
        "import string\n",
        "import nltk\n",
        "import numpy as np\n",
        "import pandas as pd\n",
        "import seaborn as sns\n",
        "import matplotlib.pyplot as plt\n",
        "from sklearn.preprocessing import StandardScaler\n",
        "\n",
        "import neattext.functions as nfx\n",
        "from nltk.corpus import stopwords\n",
        "from nltk.stem import PorterStemmer\n",
        "\n",
        "from nltk.corpus import stopwords\n",
        "from tensorflow.keras.utils import to_categorical\n",
        "from tensorflow.keras.preprocessing.text import Tokenizer\n",
        "from tensorflow.keras.preprocessing.sequence import pad_sequences\n",
        "from sklearn.preprocessing import LabelEncoder\n",
        "from sklearn.naive_bayes import MultinomialNB\n",
        "from sklearn.preprocessing import OneHotEncoder\n",
        "from tensorflow.keras.optimizers import Adam\n",
        "from keras.models import Sequential\n",
        "from keras.layers import Embedding, Dense, LSTM, Dropout, Conv1D, GlobalMaxPooling1D, MaxPooling1D,  Activation\n",
        "from keras.callbacks import Callback, EarlyStopping\n",
        "from sklearn.metrics import classification_report, confusion_matrix, accuracy_score"
      ]
    },
    {
      "cell_type": "code",
      "execution_count": null,
      "metadata": {
        "id": "Mup-gChDE-qN"
      },
      "outputs": [],
      "source": [
        "import pandas as pd\n",
        "from pandas import read_excel\n",
        "import numpy as np\n",
        "import re\n",
        "from re import sub\n",
        "import multiprocessing\n",
        "#from unidecode import unidecode\n",
        "import os\n",
        "from time import time \n",
        "import tensorflow as tf\n",
        "import keras\n",
        "from keras.models import Sequential\n",
        "from keras.layers import LSTM,Dense,Dropout,Activation,Embedding,Flatten,Bidirectional,MaxPooling2D, Conv1D, MaxPooling1D\n",
        "#from keras.optimizers import SGD,Adam\n",
        "from keras import regularizers\n",
        "from keras.preprocessing.text import Tokenizer\n",
        "#from keras.preprocessing.sequence import pad_sequences\n",
        "from keras.utils.np_utils import to_categorical\n",
        "import h5py\n",
        "import csv\n",
        "import seaborn as sns\n",
        "import matplotlib.pyplot as plt\n",
        "from sklearn.model_selection import train_test_split\n",
        "from sklearn.model_selection import StratifiedKFold"
      ]
    },
    {
      "cell_type": "code",
      "execution_count": null,
      "metadata": {
        "colab": {
          "base_uri": "https://localhost:8080/"
        },
        "id": "VcX_TtZnPWsz",
        "outputId": "f631f8e6-97b6-4a87-b96d-dfdaf22208dc"
      },
      "outputs": [
        {
          "output_type": "stream",
          "name": "stdout",
          "text": [
            "Mounted at /content/drive\n"
          ]
        }
      ],
      "source": [
        "from google.colab import drive\n",
        "drive.mount('/content/drive')"
      ]
    },
    {
      "cell_type": "code",
      "execution_count": null,
      "metadata": {
        "id": "eJKoRX35QcLh",
        "outputId": "9360f2a7-adcf-48cf-be23-f7c9d1aae2f2",
        "colab": {
          "base_uri": "https://localhost:8080/"
        }
      },
      "outputs": [
        {
          "output_type": "stream",
          "name": "stdout",
          "text": [
            "Looking in indexes: https://pypi.org/simple, https://us-python.pkg.dev/colab-wheels/public/simple/\n",
            "Requirement already satisfied: openpyxl in /usr/local/lib/python3.10/dist-packages (3.0.10)\n",
            "Requirement already satisfied: et-xmlfile in /usr/local/lib/python3.10/dist-packages (from openpyxl) (1.1.0)\n"
          ]
        }
      ],
      "source": [
        "pip install openpyxl"
      ]
    },
    {
      "cell_type": "code",
      "execution_count": null,
      "metadata": {
        "id": "V6L71mKiIL5g"
      },
      "outputs": [],
      "source": [
        "traind = pd.read_excel(\"/content/nlpaug_4augmented_train.xlsx\")\n",
        "vald = pd.read_excel(\"/content/nlpaug_4augmented_val.xlsx\")\n",
        "testd = pd.read_excel(\"/content/nlpaug_4augmented_test.xlsx\")"
      ]
    },
    {
      "cell_type": "code",
      "execution_count": null,
      "metadata": {
        "id": "soFpc8QlQcLi",
        "outputId": "7e42759b-f350-4a9b-bbfe-c95955cbfe7a",
        "colab": {
          "base_uri": "https://localhost:8080/"
        }
      },
      "outputs": [
        {
          "output_type": "execute_result",
          "data": {
            "text/plain": [
              "0        বাসার পাশে বার্গার আক্রমণ অনেক দিন ধরে যাবো যা...\n",
              "1        এককালে দেখতাম নানী দাদী বয়সী লোকজন সারাদিন এক...\n",
              "2        ইতিবাচক পুনঃমূল্যায়ন গ্রুপে রিভিউ আর বান্ধবীর...\n",
              "3        আনলিমিটেড খিচুড়ির সাথে খাসির লেগ খেতে কে না প...\n",
              "4        আপনার যদি উত্তরা বনানী গুলশান যাওয়ার মতোসময় ...\n",
              "                               ...                        \n",
              "10707    নেহারির নরম তুলতুলে রগে কামড় বসানোর সুখ মনে হ...\n",
              "10708    সেরা বার্গার স্থান এ পাবেন ১১০ টাকায় চিকেন চি...\n",
              "10709    বেতন না পাওয়া ১ টি মুরগী ছাগলের উচ্চতর দাম ২৩...\n",
              "10710    চা পান ভাঙে ভোরের ভাত আধুনিক নাম তার মা টি । চ...\n",
              "10711    ৯১১ টাকা ডিসকাউন্ট এত বড় ডিসকাউন্ট শুধুমাত্র ...\n",
              "Name: Review, Length: 10712, dtype: object"
            ]
          },
          "metadata": {},
          "execution_count": 30
        }
      ],
      "source": [
        "traind[\"Review\"]"
      ]
    },
    {
      "cell_type": "code",
      "execution_count": null,
      "metadata": {
        "id": "2ru1KP7J_wlq"
      },
      "outputs": [],
      "source": [
        "train_I=traind[\"Review\"].to_numpy()\n",
        "val_I=vald[\"Review\"].to_numpy()\n",
        "test_I=testd[\"Review\"].to_numpy()\n",
        "train_L=traind[\"Label\"].to_numpy()\n",
        "val_L=vald[\"Label\"].to_numpy()\n",
        "test_L=testd[\"Label\"].to_numpy()"
      ]
    },
    {
      "cell_type": "code",
      "execution_count": null,
      "metadata": {
        "id": "A3yDRVzYRjdM",
        "outputId": "ef8ffb0e-21fd-447c-e1da-e6525a09918a",
        "colab": {
          "base_uri": "https://localhost:8080/"
        }
      },
      "outputs": [
        {
          "output_type": "stream",
          "name": "stdout",
          "text": [
            "[1 1 1 ... 0 0 0]\n"
          ]
        }
      ],
      "source": [
        "print(train_L)"
      ]
    },
    {
      "cell_type": "code",
      "execution_count": null,
      "metadata": {
        "id": "lsB-E5DgApyq"
      },
      "outputs": [],
      "source": [
        "import keras\n",
        "from keras.utils.np_utils import to_categorical"
      ]
    },
    {
      "cell_type": "code",
      "execution_count": null,
      "metadata": {
        "colab": {
          "base_uri": "https://localhost:8080/"
        },
        "id": "ulP5sB3UCX0A",
        "outputId": "3d96bfc8-7082-4d2f-baf3-eb062690ac60"
      },
      "outputs": [
        {
          "output_type": "execute_result",
          "data": {
            "text/plain": [
              "1339"
            ]
          },
          "metadata": {},
          "execution_count": 34
        }
      ],
      "source": [
        "len(val_I)"
      ]
    },
    {
      "cell_type": "code",
      "execution_count": null,
      "metadata": {
        "colab": {
          "base_uri": "https://localhost:8080/"
        },
        "id": "lF-QIdF0AYJe",
        "outputId": "21184ded-7a29-4e07-f1c6-94737d5a24e6"
      },
      "outputs": [
        {
          "output_type": "stream",
          "name": "stdout",
          "text": [
            "training_sentences shape: (10712,)\n",
            "testing_sentences shape: (1339,)\n",
            "validation_sentences shape: (1339,)\n",
            "train_labels shape: (10712, 2)\n",
            "test_labels shape: (1339, 2)\n",
            "val_labels shape: (1339, 2)\n"
          ]
        }
      ],
      "source": [
        "training_sentences = []\n",
        "testing_sentences = []\n",
        "val_sentences = []\n",
        "train_sentences = list(train_I)\n",
        "train_labels = train_L\n",
        "for i in range(len(train_sentences)): \n",
        "    #print(train_sentences[i])\n",
        "    x=str(train_sentences[i])\n",
        "    training_sentences.append(x)\n",
        "training_sentences=np.array(training_sentences)\n",
        "\n",
        "test_sentences=list(test_I)\n",
        "test_labels=test_L\n",
        "\n",
        "for i in range(len(test_sentences)): \n",
        "    x=str(test_sentences[i])\n",
        "    testing_sentences.append(x)\n",
        "testing_sentences=np.array(testing_sentences)\n",
        "\n",
        "validation_sentences=list(val_I)\n",
        "val_labels=val_L\n",
        "\n",
        "for i in range(len(validation_sentences)): \n",
        "    x=str(validation_sentences[i])\n",
        "    val_sentences.append(x)\n",
        "val_sentences=np.array(val_sentences)\n",
        "\n",
        "\n",
        "train_labels=to_categorical(train_labels)\n",
        "test_labels=to_categorical(test_labels)\n",
        "val_labels=to_categorical(val_labels)\n",
        "\n",
        "# print(\"Training Set Length: \"+str(len(train1)))\n",
        "# print(\"Testing Set Length: \"+str(len(test1)))\n",
        "print(\"training_sentences shape: \"+str(training_sentences.shape))\n",
        "print(\"testing_sentences shape: \"+str(testing_sentences.shape))\n",
        "print(\"validation_sentences shape: \"+str(val_sentences.shape))\n",
        "print(\"train_labels shape: \"+str(train_labels.shape))\n",
        "print(\"test_labels shape: \"+str(test_labels.shape))\n",
        "print(\"val_labels shape: \"+str(val_labels.shape))"
      ]
    },
    {
      "cell_type": "code",
      "execution_count": null,
      "metadata": {
        "id": "LIRu9pb0DUB4"
      },
      "outputs": [],
      "source": [
        "vocab_size = 25000\n",
        "embedding_dim = 300\n",
        "max_length = 512\n",
        "trunc_type='post'\n",
        "oov_tok = \"<OOV>\""
      ]
    },
    {
      "cell_type": "code",
      "execution_count": null,
      "metadata": {
        "colab": {
          "base_uri": "https://localhost:8080/"
        },
        "id": "FbnT5DWUD1ge",
        "outputId": "8a8b4229-0078-4f9c-afac-4de14512ba48"
      },
      "outputs": [
        {
          "output_type": "stream",
          "name": "stdout",
          "text": [
            "46910\n",
            "Word index length:46910\n"
          ]
        }
      ],
      "source": [
        "tokenizer = Tokenizer(num_words = vocab_size, oov_token=oov_tok)\n",
        "tokenizer.fit_on_texts(training_sentences)\n",
        "word_index = tokenizer.word_index\n",
        "print(len(word_index))\n",
        "print(\"Word index length:\"+str(len(tokenizer.word_index)))\n",
        "sequences = tokenizer.texts_to_sequences(training_sentences)\n",
        "padded = pad_sequences(sequences,maxlen=max_length, truncating=trunc_type)\n",
        "\n",
        "\n",
        "test_sequences = tokenizer.texts_to_sequences(testing_sentences)\n",
        "testing_padded = pad_sequences(test_sequences,maxlen=max_length)\n",
        "\n",
        "val_sequences = tokenizer.texts_to_sequences(val_sentences)\n",
        "val_padded = pad_sequences(val_sequences,maxlen=max_length)"
      ]
    },
    {
      "cell_type": "code",
      "execution_count": null,
      "metadata": {
        "colab": {
          "base_uri": "https://localhost:8080/"
        },
        "id": "LSJmazeOEhpc",
        "outputId": "d3e35a5c-6989-437f-94bf-e5ef4ecdd8fc"
      },
      "outputs": [
        {
          "output_type": "stream",
          "name": "stdout",
          "text": [
            "Sentence :--> \n",
            "\n",
            "ইতিবাচক পুনঃমূল্যায়ন গ্রুপে রিভিউ আর বান্ধবীর দেওয়া ছবি দেখে চলে গেলাম তাদের বিখ্যাত ফেনা চা খেতে । সাথে নিলাম গ্রিল আর গার্লিক নান । ২০ মিনিটের কথা বলে ৩৫ মিনিট সময় নিল । আশেপাশে বসে থাকা মানুষের আওয়াজে আমরা এক পর্যায়ে উঠেই যেতে চেয়েছিলাম । অনেকক্ষণ বসে থাকার পর খাবার পরিবেশন করা হল । খাবারের পরিবেশনা দেখেই ভালো লাগলো । গ্রিলটা অনেক বেশি মজার ছিল সাথে নানও । আর ফোম টি টার কথা কি বলবো । এক কথায় অসাধারণ । বনশ্রীতে এর থেকে বেস্ট চা আমি দেখিনি । বেশ কিছুদিন আগে তাদের সেট মেন্যু খেয়েছিলাম । সত্যিকার অর্থেই ভালো । স্বাদ ৯ ৫ ১০ পরিবেশ ৭ ১০ পরিষেবা ৮ ১০ দাম ফেনা চা ১৫ গ্রিল ৯০ সম্ভবত নান ৪০ এ রাজকীয় বাগান\n",
            "\n",
            "Sentence Tokenized and Converted into Sequence :--> \n",
            "\n",
            "[803, 320, 1338, 122, 3, 8692, 351, 222, 127, 65, 86, 15, 693, 9387, 266, 41, 2, 16, 357, 557, 3, 918, 224, 2, 252, 1195, 81, 134, 1319, 361, 105, 2895, 2, 1733, 277, 290, 819, 21332, 106, 39, 6477, 18216, 265, 3028, 2, 3990, 277, 919, 109, 20, 662, 57, 269, 2, 97, 6207, 836, 10, 762, 2, 7150, 23, 55, 234, 8, 16, 18217, 2, 3, 21333, 184, 582, 81, 52, 379, 2, 39, 215, 165, 2, 3218, 5, 28, 102, 266, 24, 4315, 2, 49, 1048, 160, 15, 233, 815, 1309, 2, 11168, 18218, 10, 2, 38, 31, 34, 4, 132, 79, 4, 321, 36, 4, 21, 9387, 266, 219, 557, 666, 1827, 224, 516, 7, 2537, 2701]\n",
            "\n",
            "After Padding the Sequence with padding length 100 :--> \n",
            "\n",
            "[    0     0     0     0     0     0     0     0     0     0     0     0\n",
            "     0     0     0     0     0     0     0     0     0     0     0     0\n",
            "     0     0     0     0     0     0     0     0     0     0     0     0\n",
            "     0     0     0     0     0     0     0     0     0     0     0     0\n",
            "     0     0     0     0     0     0     0     0     0     0     0     0\n",
            "     0     0     0     0     0     0     0     0     0     0     0     0\n",
            "     0     0     0     0     0     0     0     0     0     0     0     0\n",
            "     0     0     0     0     0     0     0     0     0     0     0     0\n",
            "     0     0     0     0     0     0     0     0     0     0     0     0\n",
            "     0     0     0     0     0     0     0     0     0     0     0     0\n",
            "     0     0     0     0     0     0     0     0     0     0     0     0\n",
            "     0     0     0     0     0     0     0     0     0     0     0     0\n",
            "     0     0     0     0     0     0     0     0     0     0     0     0\n",
            "     0     0     0     0     0     0     0     0     0     0     0     0\n",
            "     0     0     0     0     0     0     0     0     0     0     0     0\n",
            "     0     0     0     0     0     0     0     0     0     0     0     0\n",
            "     0     0     0     0     0     0     0     0     0     0     0     0\n",
            "     0     0     0     0     0     0     0     0     0     0     0     0\n",
            "     0     0     0     0     0     0     0     0     0     0     0     0\n",
            "     0     0     0     0     0     0     0     0     0     0     0     0\n",
            "     0     0     0     0     0     0     0     0     0     0     0     0\n",
            "     0     0     0     0     0     0     0     0     0     0     0     0\n",
            "     0     0     0     0     0     0     0     0     0     0     0     0\n",
            "     0     0     0     0     0     0     0     0     0     0     0     0\n",
            "     0     0     0     0     0     0     0     0     0     0     0     0\n",
            "     0     0     0     0     0     0     0     0     0     0     0     0\n",
            "     0     0     0     0     0     0     0     0     0     0     0     0\n",
            "     0     0     0     0     0     0     0     0     0     0     0     0\n",
            "     0     0     0     0     0     0     0     0     0     0     0     0\n",
            "     0     0     0     0     0     0     0     0     0     0     0     0\n",
            "     0     0     0     0     0     0     0     0     0     0     0     0\n",
            "     0     0     0     0     0     0     0     0     0     0     0     0\n",
            "     0     0     0     0     0     0   803   320  1338   122     3  8692\n",
            "   351   222   127    65    86    15   693  9387   266    41     2    16\n",
            "   357   557     3   918   224     2   252  1195    81   134  1319   361\n",
            "   105  2895     2  1733   277   290   819 21332   106    39  6477 18216\n",
            "   265  3028     2  3990   277   919   109    20   662    57   269     2\n",
            "    97  6207   836    10   762     2  7150    23    55   234     8    16\n",
            " 18217     2     3 21333   184   582    81    52   379     2    39   215\n",
            "   165     2  3218     5    28   102   266    24  4315     2    49  1048\n",
            "   160    15   233   815  1309     2 11168 18218    10     2    38    31\n",
            "    34     4   132    79     4   321    36     4    21  9387   266   219\n",
            "   557   666  1827   224   516     7  2537  2701]\n"
          ]
        }
      ],
      "source": [
        "print(\"Sentence :--> \\n\")\n",
        "print(training_sentences[2]+\"\\n\")\n",
        "print(\"Sentence Tokenized and Converted into Sequence :--> \\n\")\n",
        "print(str(sequences[2])+\"\\n\")\n",
        "print(\"After Padding the Sequence with padding length 100 :--> \\n\")\n",
        "print(padded[2])"
      ]
    },
    {
      "cell_type": "code",
      "execution_count": null,
      "metadata": {
        "colab": {
          "base_uri": "https://localhost:8080/"
        },
        "id": "qYUyCqjOmRUK",
        "outputId": "c27614e7-96b4-446d-db7d-7d1edac33cc9",
        "scrolled": true
      },
      "outputs": [
        {
          "name": "stdout",
          "output_type": "stream",
          "text": [
            "Model: \"sequential_46\"\n",
            "_________________________________________________________________\n",
            " Layer (type)                Output Shape              Param #   \n",
            "=================================================================\n",
            " embedding_46 (Embedding)    (None, 512, 300)          7500000   \n",
            "                                                                 \n",
            " conv1d_63 (Conv1D)          (None, 510, 200)          180200    \n",
            "                                                                 \n",
            " conv1d_64 (Conv1D)          (None, 508, 100)          60100     \n",
            "                                                                 \n",
            " bidirectional_64 (Bidirecti  (None, 508, 128)         84480     \n",
            " onal)                                                           \n",
            "                                                                 \n",
            " dropout_33 (Dropout)        (None, 508, 128)          0         \n",
            "                                                                 \n",
            " bidirectional_65 (Bidirecti  (None, 128)              98816     \n",
            " onal)                                                           \n",
            "                                                                 \n",
            " dense_184 (Dense)           (None, 50)                6450      \n",
            "                                                                 \n",
            " dense_185 (Dense)           (None, 50)                2550      \n",
            "                                                                 \n",
            " flatten_46 (Flatten)        (None, 50)                0         \n",
            "                                                                 \n",
            " dense_186 (Dense)           (None, 100)               5100      \n",
            "                                                                 \n",
            " dense_187 (Dense)           (None, 2)                 202       \n",
            "                                                                 \n",
            "=================================================================\n",
            "Total params: 7,937,898\n",
            "Trainable params: 7,937,898\n",
            "Non-trainable params: 0\n",
            "_________________________________________________________________\n"
          ]
        }
      ],
      "source": [
        "with tf.device('/gpu:0'):\n",
        "    model= Sequential()\n",
        "    model.add(Embedding(vocab_size, embedding_dim, input_length=max_length))\n",
        "    model.add(Conv1D(200, kernel_size=3, activation = \"relu\"))\n",
        "    model.add(Conv1D(100, kernel_size=3, activation = \"relu\"))\n",
        "    model.add(Bidirectional(LSTM(64, return_sequences=True)))\n",
        "    model.add(Dropout(0.5))\n",
        "    model.add(Bidirectional(LSTM(64)))\n",
        "    model.add(Dense(50, activation='relu'))\n",
        "    model.add(Dense(50, activation='relu'))\n",
        "    model.add(Flatten())\n",
        "    #l2 regularizer\n",
        "    model.add(Dense(100,kernel_regularizer=regularizers.l2(0.01),activation=\"relu\"))\n",
        "    model.add(Dense(2, activation='softmax'))\n",
        "    #sgd= SGD(lr=0.0001,decay=1e-6,momentum=0.9,nesterov=True)\n",
        "    adam=Adam(learning_rate=0.0005,beta_1=0.9,beta_2=0.999,epsilon=1e-07,amsgrad=False)\n",
        "    model.summary()\n",
        "    model.compile(loss='categorical_crossentropy',optimizer=adam,metrics=['accuracy'])"
      ]
    },
    {
      "cell_type": "code",
      "execution_count": null,
      "metadata": {
        "id": "E3Mo5k69QcLk"
      },
      "outputs": [],
      "source": [
        "epoch=15\n",
        "batch=256"
      ]
    },
    {
      "cell_type": "code",
      "execution_count": null,
      "metadata": {
        "colab": {
          "base_uri": "https://localhost:8080/"
        },
        "id": "0O_Kvqg1mVWC",
        "outputId": "7a46c822-b21d-4eeb-876f-a9143af1a946"
      },
      "outputs": [
        {
          "name": "stdout",
          "output_type": "stream",
          "text": [
            "Epoch 1/15\n",
            "42/42 [==============================] - 13s 202ms/step - loss: 1.1485 - accuracy: 0.6812 - val_loss: 0.7246 - val_accuracy: 0.9216\n",
            "Epoch 2/15\n",
            "42/42 [==============================] - 8s 179ms/step - loss: 0.5764 - accuracy: 0.9513 - val_loss: 0.5003 - val_accuracy: 0.9574\n",
            "Epoch 3/15\n",
            "42/42 [==============================] - 8s 187ms/step - loss: 0.3715 - accuracy: 0.9860 - val_loss: 0.3980 - val_accuracy: 0.9627\n",
            "Epoch 4/15\n",
            "42/42 [==============================] - 8s 186ms/step - loss: 0.2670 - accuracy: 0.9935 - val_loss: 0.3235 - val_accuracy: 0.9694\n",
            "Epoch 5/15\n",
            "42/42 [==============================] - 8s 179ms/step - loss: 0.2072 - accuracy: 0.9924 - val_loss: 0.2701 - val_accuracy: 0.9656\n",
            "Epoch 6/15\n",
            "42/42 [==============================] - 8s 181ms/step - loss: 0.1510 - accuracy: 0.9957 - val_loss: 0.2348 - val_accuracy: 0.9671\n",
            "Epoch 7/15\n",
            "42/42 [==============================] - 8s 190ms/step - loss: 0.1108 - accuracy: 0.9972 - val_loss: 0.1840 - val_accuracy: 0.9754\n",
            "Epoch 8/15\n",
            "42/42 [==============================] - 8s 187ms/step - loss: 0.0821 - accuracy: 0.9979 - val_loss: 0.1708 - val_accuracy: 0.9716\n",
            "Epoch 9/15\n",
            "42/42 [==============================] - 7s 179ms/step - loss: 0.0618 - accuracy: 0.9982 - val_loss: 0.1493 - val_accuracy: 0.9739\n",
            "Epoch 10/15\n",
            "42/42 [==============================] - 8s 180ms/step - loss: 0.0485 - accuracy: 0.9979 - val_loss: 0.1320 - val_accuracy: 0.9761\n",
            "Epoch 11/15\n",
            "42/42 [==============================] - 8s 188ms/step - loss: 0.0339 - accuracy: 0.9990 - val_loss: 0.1341 - val_accuracy: 0.9746\n",
            "Epoch 12/15\n",
            "42/42 [==============================] - 8s 186ms/step - loss: 0.0261 - accuracy: 0.9989 - val_loss: 0.1427 - val_accuracy: 0.9709\n",
            "Epoch 13/15\n",
            "42/42 [==============================] - 8s 181ms/step - loss: 0.0202 - accuracy: 0.9993 - val_loss: 0.1383 - val_accuracy: 0.9724\n",
            "Epoch 14/15\n",
            "42/42 [==============================] - 8s 181ms/step - loss: 0.0169 - accuracy: 0.9988 - val_loss: 0.1396 - val_accuracy: 0.9731\n",
            "Epoch 15/15\n",
            "42/42 [==============================] - 8s 188ms/step - loss: 0.0150 - accuracy: 0.9982 - val_loss: 0.1245 - val_accuracy: 0.9739\n"
          ]
        }
      ],
      "source": [
        "history=model.fit(padded,train_labels,epochs=epoch,batch_size=batch,validation_data=(val_padded,val_labels),use_multiprocessing=True, workers=8)"
      ]
    },
    {
      "cell_type": "code",
      "execution_count": null,
      "metadata": {
        "colab": {
          "base_uri": "https://localhost:8080/",
          "height": 590
        },
        "id": "-Nu0DOMLFl6C",
        "outputId": "b9ea916a-460b-4325-84a8-4d0fd698dde4"
      },
      "outputs": [
        {
          "name": "stdout",
          "output_type": "stream",
          "text": [
            "dict_keys(['loss', 'accuracy', 'val_loss', 'val_accuracy'])\n"
          ]
        },
        {
          "data": {
            "image/png": "[encoded data removed]",
            "text/plain": [
              "<Figure size 640x480 with 1 Axes>"
            ]
          },
          "metadata": {},
          "output_type": "display_data"
        },
        {
          "data": {
            "image/png": "[encoded data removed]",
            "text/plain": [
              "<Figure size 640x480 with 1 Axes>"
            ]
          },
          "metadata": {},
          "output_type": "display_data"
        }
      ],
      "source": [
        "print(history.history.keys())\n",
        "loss = history.history['loss']\n",
        "val_loss = history.history['val_loss']\n",
        "plt.plot(loss)\n",
        "plt.plot(val_loss)\n",
        "plt.title('model loss')\n",
        "plt.ylabel('loss')\n",
        "plt.xlabel('epoch')\n",
        "plt.legend(['loss', 'val_loss'])\n",
        "plt.show()\n",
        "\n",
        "accuracy = history.history['accuracy']\n",
        "val_accuracy= history.history['val_accuracy']\n",
        "plt.plot(accuracy)\n",
        "plt.plot(val_accuracy)\n",
        "plt.title('model accuracy')\n",
        "plt.ylabel('accuracy')\n",
        "plt.xlabel('epoch')\n",
        "plt.legend(['accuracy', 'val_accuracy'])\n",
        "plt.show()"
      ]
    },
    {
      "cell_type": "code",
      "execution_count": null,
      "metadata": {
        "colab": {
          "base_uri": "https://localhost:8080/"
        },
        "id": "iaedzP0mFqq7",
        "outputId": "af889dea-1e4c-452b-8a05-e8e35b1a4a32"
      },
      "outputs": [
        {
          "name": "stdout",
          "output_type": "stream",
          "text": [
            "6/6 [==============================] - 0s 80ms/step - loss: 0.1378 - accuracy: 0.9746\n",
            "The test accuracy is: 0.9746079444885254\n"
          ]
        }
      ],
      "source": [
        "predict_x=model.predict(testing_padded) \n",
        "classes_xy=np.argmax(predict_x,axis=1)\n",
        "loss_and_metrics = model.evaluate(testing_padded,test_labels,batch_size=batch)\n",
        "print(\"The test accuracy is: \"+str(loss_and_metrics[1]))"
      ]
    },
    {
      "cell_type": "code",
      "execution_count": null,
      "metadata": {
        "id": "YiNUmiIrQcLl",
        "outputId": "a79109bc-8471-41c8-c49e-1b5e2446f6c1"
      },
      "outputs": [
        {
          "name": "stdout",
          "output_type": "stream",
          "text": [
            "0.9958263614662115\n",
            "0.9492542646682032\n",
            "655\n",
            "14\n",
            "20\n",
            "650\n",
            "{'0': {'precision': 0.9703703703703703, 'recall': 0.9790732436472347, 'f1-score': 0.9747023809523809, 'support': 669}, '1': {'precision': 0.9789156626506024, 'recall': 0.9701492537313433, 'f1-score': 0.9745127436281859, 'support': 670}, 'accuracy': 0.9746079163554892, 'macro avg': {'precision': 0.9746430165104863, 'recall': 0.9746112486892891, 'f1-score': 0.9746075622902834, 'support': 1339}, 'weighted avg': {'precision': 0.9746462074336678, 'recall': 0.9746079163554892, 'f1-score': 0.9746074914772423, 'support': 1339}}\n"
          ]
        }
      ],
      "source": [
        "from collections import Counter\n",
        "\n",
        "from sklearn.metrics import roc_auc_score\n",
        "x=roc_auc_score(test_labels,model.predict(testing_padded) )\n",
        "print(x)\n",
        "\n",
        "from sklearn.metrics import matthews_corrcoef\n",
        "y_true=np.argmax(test_labels,axis=1)\n",
        "classes_x=[-1 if item==0 else item for item in classes_xy]\n",
        "y_true=[-1 if item==0 else item for item in y_true]\n",
        "mcc=matthews_corrcoef(y_true,classes_x)\n",
        "print(mcc)\n",
        "\n",
        "# print(Counter(classes_x).keys()) # equals to list(set(words))\n",
        "# print(Counter(classes_x).values())\n",
        "\n",
        "from sklearn.metrics import confusion_matrix\n",
        "conf=confusion_matrix(y_true, classes_x)\n",
        "print(conf[0][0])\n",
        "print(conf[0][1])\n",
        "print(conf[1][0])\n",
        "print(conf[1][1])\n",
        "cr=classification_report(np.argmax(test_labels,axis=1), classes_xy,digits=4,output_dict=True)\n",
        "print(cr)"
      ]
    },
    {
      "cell_type": "code",
      "execution_count": null,
      "metadata": {
        "id": "HRcevWR-QcLl"
      },
      "outputs": [],
      "source": [
        "training_stats=[]\n",
        "training_stats.append(\n",
        "        {\n",
        "            'roc-auc': x,\n",
        "            'mcc': mcc,\n",
        "            'conf_0_0': conf[0][0],\n",
        "            'conf_0_1': conf[0][1],\n",
        "            'conf_1_0': conf[1][0],\n",
        "            'conf_1_1': conf[1][1],\n",
        "            'cr': cr\n",
        "        }\n",
        "    )"
      ]
    },
    {
      "cell_type": "code",
      "execution_count": null,
      "metadata": {
        "id": "G4XV3ApqQcLl",
        "outputId": "03b573d9-0138-453e-cf6b-ea58140544b1"
      },
      "outputs": [
        {
          "data": {
            "text/plain": [
              "[{'roc-auc': 0.9958263614662115,\n",
              "  'mcc': 0.9492542646682032,\n",
              "  'conf_0_0': 655,\n",
              "  'conf_0_1': 14,\n",
              "  'conf_1_0': 20,\n",
              "  'conf_1_1': 650,\n",
              "  'cr': {'0': {'precision': 0.9703703703703703,\n",
              "    'recall': 0.9790732436472347,\n",
              "    'f1-score': 0.9747023809523809,\n",
              "    'support': 669},\n",
              "   '1': {'precision': 0.9789156626506024,\n",
              "    'recall': 0.9701492537313433,\n",
              "    'f1-score': 0.9745127436281859,\n",
              "    'support': 670},\n",
              "   'accuracy': 0.9746079163554892,\n",
              "   'macro avg': {'precision': 0.9746430165104863,\n",
              "    'recall': 0.9746112486892891,\n",
              "    'f1-score': 0.9746075622902834,\n",
              "    'support': 1339},\n",
              "   'weighted avg': {'precision': 0.9746462074336678,\n",
              "    'recall': 0.9746079163554892,\n",
              "    'f1-score': 0.9746074914772423,\n",
              "    'support': 1339}}}]"
            ]
          },
          "execution_count": 836,
          "metadata": {},
          "output_type": "execute_result"
        }
      ],
      "source": [
        "training_stats"
      ]
    },
    {
      "cell_type": "code",
      "execution_count": null,
      "metadata": {
        "id": "MTfj4zosQcLl"
      },
      "outputs": [],
      "source": [
        "id=4\n",
        "modelname=\"CNNBiLSTM\""
      ]
    },
    {
      "cell_type": "code",
      "execution_count": null,
      "metadata": {
        "id": "shhChLoBQcLl"
      },
      "outputs": [],
      "source": [
        "# history.history"
      ]
    },
    {
      "cell_type": "code",
      "execution_count": null,
      "metadata": {
        "id": "HJ_5CdpmQcLl"
      },
      "outputs": [],
      "source": [
        "df = pd.DataFrame(training_stats) \n",
        "df2 = pd.DataFrame(history.history) \n",
        "df3 = pd.DataFrame(predict_x)\n",
        "df4 = pd.DataFrame(classes_xy,columns=['Pred'])\n",
        "df4['True']=np.argmax(test_labels,axis=1)\n",
        "df5= pd.DataFrame(cr).transpose()\n",
        "    \n",
        "# saving the dataframe \n",
        "df.to_csv(\"C:/Users/MSI/Desktop/BFRD/Final/nlpaug/performance\"+str(id)+str(modelname)+\".csv\") \n",
        "df2.to_csv(\"C:/Users/MSI/Desktop/BFRD/Final/nlpaug/history\"+str(id)+str(modelname)+\".csv\") \n",
        "df3.to_csv(\"C:/Users/MSI/Desktop/BFRD/Final/nlpaug/probab\"+str(id)+str(modelname)+\".csv\") \n",
        "df4.to_csv(\"C:/Users/MSI/Desktop/BFRD/Final/nlpaug/predict\"+str(id)+str(modelname)+\".csv\") \n",
        "df5.to_csv(\"C:/Users/MSI/Desktop/BFRD/Final/nlpaug/cr\"+str(id)+str(modelname)+\".csv\") \n",
        "model.save(\"C:/Users/MSI/Desktop/BFRD/Final/nlpaug/model\"+str(id)+str(modelname)+\".h5\")"
      ]
    },
    {
      "cell_type": "code",
      "execution_count": null,
      "metadata": {
        "id": "nNcaxJdJSh2n"
      },
      "outputs": [],
      "source": []
    }
  ],
  "metadata": {
    "colab": {
      "provenance": []
    },
    "gpuClass": "standard",
    "kernelspec": {
      "display_name": "Python 3 (ipykernel)",
      "language": "python",
      "name": "python3"
    },
    "language_info": {
      "codemirror_mode": {
        "name": "ipython",
        "version": 3
      },
      "file_extension": ".py",
      "mimetype": "text/x-python",
      "name": "python",
      "nbconvert_exporter": "python",
      "pygments_lexer": "ipython3",
      "version": "3.9.12"
    }
  },
  "nbformat": 4,
  "nbformat_minor": 0
}