{
  "cells": [
    {
      "cell_type": "code",
      "execution_count": null,
      "metadata": {
        "id": "98UxhN8FlxCt"
      },
      "outputs": [],
      "source": [
        "from google.colab import drive\n",
        "drive.mount('/content/drive')"
      ]
    },
    {
      "cell_type": "code",
      "execution_count": null,
      "metadata": {
        "id": "BvcLJ1m_l_I5"
      },
      "outputs": [],
      "source": [
        "import pandas as pd\n",
        "import numpy as np"
      ]
    },
    {
      "cell_type": "code",
      "execution_count": null,
      "metadata": {
        "colab": {
          "background_save": true
        },
        "id": "42Nz6b7pmtus"
      },
      "outputs": [],
      "source": [
        "id=4\n",
        "modelname=\"Weightedcheck1245\""
      ]
    },
    {
      "cell_type": "code",
      "execution_count": null,
      "metadata": {
        "colab": {
          "background_save": true
        },
        "id": "QgEOzysyl4qI"
      },
      "outputs": [],
      "source": [
        "cr1 = pd.read_csv(\"/content/drive/MyDrive/Data712/BF/Results/test/sagar/cr\"+str(id)+\"buet_gen.csv\")\n",
        "probab1 = pd.read_csv(\"/content/drive/MyDrive/Data712/BF/Results/test/sagar/probab\"+str(id)+\"buet_gen.csv\")\n",
        "\n",
        "cr2 = pd.read_csv(\"/content/drive/MyDrive/Data712/BF/Results/test/sagar/cr\"+str(id)+\"buet.csv\")\n",
        "probab2 = pd.read_csv(\"/content/drive/MyDrive/Data712/BF/Results/test/sagar/probab\"+str(id)+\"buet.csv\")\n",
        "\n",
        "cr3 = pd.read_csv(\"/content/drive/MyDrive/Data712/BF/Results/test/sagar/cr\"+str(id)+\"buetlarge.csv\")\n",
        "probab3 = pd.read_csv(\"/content/drive/MyDrive/Data712/BF/Results/test/sagar/probab\"+str(id)+\"buetlarge.csv\")\n",
        "\n",
        "cr4 = pd.read_csv(\"/content/drive/MyDrive/Data712/BF/Results/test/sagar/cr\"+str(id)+\"sagar.csv\")\n",
        "probab4 = pd.read_csv(\"/content/drive/MyDrive/Data712/BF/Results/test/sagar/probab\"+str(id)+\"sagar.csv\")\n",
        "\n",
        "cr5 = pd.read_csv(\"/content/drive/MyDrive/Data712/BF/Results/test/sagar/cr\"+str(id)+\"sahaj.csv\")\n",
        "probab5 = pd.read_csv(\"/content/drive/MyDrive/Data712/BF/Results/test/sagar/probab\"+str(id)+\"sahaj.csv\")"
      ]
    },
    {
      "cell_type": "code",
      "execution_count": null,
      "metadata": {
        "id": "NIhReU6Wp7uc"
      },
      "outputs": [],
      "source": [
        "#BB+BBG+BBL+BBB Summation of f1 score\n",
        "crsum0=cr1.iloc[0][3]+cr2.iloc[0][3]+cr3.iloc[0][3]+cr4.iloc[0][3]\n",
        "crsum1=cr1.iloc[1][3]+cr2.iloc[1][3]+cr3.iloc[1][3]+cr4.iloc[1][3]\n",
        "crsumw=cr1.iloc[4][3]+cr2.iloc[4][3]+cr3.iloc[4][3]+cr4.iloc[4][3] # Summation of Wf1 score"
      ]
    },
    {
      "cell_type": "code",
      "execution_count": null,
      "metadata": {
        "id": "SCbRBtIEg0__"
      },
      "outputs": [],
      "source": [
        "# #BB+BBG+BBL+BBB (Ensemble with WF1)\n",
        "for i in range(0,len(probab1)):\n",
        "  sum0.append(((probab1.iloc[i][1]*cr1.iloc[4][3])+(probab2.iloc[i][1]*cr2.iloc[4][3])+(probab3.iloc[i][1]*cr3.iloc[4][3])+(probab4.iloc[i][1]*cr4.iloc[4][3]))/crsumw)\n",
        "  sum1.append(((probab1.iloc[i][2]*cr1.iloc[4][3])+(probab2.iloc[i][2]*cr2.iloc[4][3])+(probab3.iloc[i][2]*cr3.iloc[4][3])+(probab4.iloc[i][2]*cr4.iloc[4][3]))/crsumw)"
      ]
    },
    {
      "cell_type": "code",
      "execution_count": null,
      "metadata": {
        "id": "NTg4onGZ3RWW"
      },
      "outputs": [],
      "source": [
        "# #BB+BBG+BBL+BBB (Ensemble with F1)\n",
        "for i in range(0,len(probab1)):\n",
        "  sum0.append((probab1.iloc[i][1]*cr1.iloc[0][3]+probab2.iloc[i][1]*cr2.iloc[0][3]+probab3.iloc[i][1]*cr3.iloc[0][3]+probab4.iloc[i][1]*cr4.iloc[0][3])/crsum0)\n",
        "  sum1.append((probab1.iloc[i][2]*cr1.iloc[1][3]+probab2.iloc[i][2]*cr2.iloc[1][3]+probab3.iloc[i][2]*cr3.iloc[1][3]+probab4.iloc[i][2]*cr4.iloc[1][3])/crsum1)"
      ]
    },
    {
      "cell_type": "code",
      "execution_count": null,
      "metadata": {
        "id": "dTZJCaXwYKbx"
      },
      "outputs": [],
      "source": [
        "#BB+BBL+BBB+SB Summation of f1 score\n",
        "crsum0=cr2.iloc[0][3]+cr3.iloc[0][3]+cr4.iloc[0][3]+cr5.iloc[0][3]\n",
        "crsum1=cr2.iloc[1][3]+cr3.iloc[1][3]+cr4.iloc[1][3]+cr5.iloc[1][3]\n",
        "crsumw=cr2.iloc[4][3]+cr3.iloc[4][3]+cr4.iloc[4][3]+cr5.iloc[4][3] #Summation of Wf1 score"
      ]
    },
    {
      "cell_type": "code",
      "execution_count": null,
      "metadata": {
        "id": "seh285tOkDND"
      },
      "outputs": [],
      "source": [
        "# #BB+BBL+BBB+SB (Ensemble with WF1)\n",
        "for i in range(0,len(probab1)):\n",
        "  sum0.append(((probab5.iloc[i][1]*cr5.iloc[4][3])+(probab2.iloc[i][1]*cr2.iloc[4][3])+(probab3.iloc[i][1]*cr3.iloc[4][3])+(probab4.iloc[i][1]*cr4.iloc[4][3]))/crsumw)\n",
        "  sum1.append(((probab5.iloc[i][2]*cr5.iloc[4][3])+(probab2.iloc[i][2]*cr2.iloc[4][3])+(probab3.iloc[i][2]*cr3.iloc[4][3])+(probab4.iloc[i][2]*cr4.iloc[4][3]))/crsumw)"
      ]
    },
    {
      "cell_type": "code",
      "execution_count": null,
      "metadata": {
        "colab": {
          "background_save": true
        },
        "id": "jIu7VGk83YDp"
      },
      "outputs": [],
      "source": [
        "#BB+BBL+BBB+SB (Ensemble with F1)\n",
        "for i in range(0,len(probab1)):\n",
        "  sum0.append((probab5.iloc[i][1]*cr5.iloc[0][3]+probab2.iloc[i][1]*cr2.iloc[0][3]+probab3.iloc[i][1]*cr3.iloc[0][3]+probab4.iloc[i][1]*cr4.iloc[0][3])/crsum0)\n",
        "  sum1.append((probab5.iloc[i][2]*cr5.iloc[1][3]+probab2.iloc[i][2]*cr2.iloc[1][3]+probab3.iloc[i][2]*cr3.iloc[1][3]+probab4.iloc[i][2]*cr4.iloc[1][3])/crsum1)"
      ]
    },
    {
      "cell_type": "code",
      "execution_count": null,
      "metadata": {
        "id": "wo6WcEVPYMd8"
      },
      "outputs": [],
      "source": [
        "#BBG+BB+BBL+SB Summation of f1 score\n",
        "crsum0=cr1.iloc[0][3]+cr5.iloc[0][3]+cr3.iloc[0][3]+cr4.iloc[0][3]\n",
        "crsum1=cr1.iloc[1][3]+cr5.iloc[1][3]+cr3.iloc[1][3]+cr4.iloc[1][3]\n",
        "crsumw=cr1.iloc[4][3]+cr5.iloc[4][3]+cr3.iloc[4][3]+cr4.iloc[4][3] #Summation of Wf1 score"
      ]
    },
    {
      "cell_type": "code",
      "execution_count": null,
      "metadata": {
        "id": "5qdYxtfak0OC"
      },
      "outputs": [],
      "source": [
        "# #BBG+BB+BBL+SB (Ensemble with WF1)\n",
        "for i in range(0,len(probab1)):\n",
        "  sum0.append(((probab5.iloc[i][1]*cr5.iloc[4][3])+(probab1.iloc[i][1]*cr1.iloc[4][3])+(probab3.iloc[i][1]*cr3.iloc[4][3])+(probab4.iloc[i][1]*cr4.iloc[4][3]))/crsumw)\n",
        "  sum1.append(((probab5.iloc[i][2]*cr5.iloc[4][3])+(probab1.iloc[i][2]*cr1.iloc[4][3])+(probab3.iloc[i][2]*cr3.iloc[4][3])+(probab4.iloc[i][2]*cr4.iloc[4][3]))/crsumw)"
      ]
    },
    {
      "cell_type": "code",
      "execution_count": null,
      "metadata": {
        "colab": {
          "background_save": true
        },
        "id": "GmQHsCzR3jmJ"
      },
      "outputs": [],
      "source": [
        "#BBG+BB+BBL+SB (Ensemble with F1)\n",
        "for i in range(0,len(probab1)):\n",
        "  sum0.append((probab1.iloc[i][1]*cr1.iloc[0][3]+probab5.iloc[i][1]*cr5.iloc[0][3]+probab3.iloc[i][1]*cr3.iloc[0][3]+probab4.iloc[i][1]*cr4.iloc[0][3])/crsum0)\n",
        "  sum1.append((probab1.iloc[i][2]*cr1.iloc[1][3]+probab5.iloc[i][2]*cr5.iloc[1][3]+probab3.iloc[i][2]*cr3.iloc[1][3]+probab4.iloc[i][2]*cr4.iloc[1][3])/crsum1)"
      ]
    },
    {
      "cell_type": "code",
      "execution_count": null,
      "metadata": {
        "id": "GI33s1YkYP2R"
      },
      "outputs": [],
      "source": [
        "#BBG+BB+BBB+SB Summation of f1 score\n",
        "crsum0=cr1.iloc[0][3]+cr2.iloc[0][3]+cr3.iloc[0][3]+cr5.iloc[0][3]\n",
        "crsum1=cr1.iloc[1][3]+cr2.iloc[1][3]+cr3.iloc[1][3]+cr5.iloc[1][3]\n",
        "crsumw=cr1.iloc[4][3]+cr2.iloc[4][3]+cr3.iloc[4][3]+cr5.iloc[4][3] #Summation of Wf1 score"
      ]
    },
    {
      "cell_type": "code",
      "execution_count": null,
      "metadata": {
        "id": "ad6WJGm2lcYa"
      },
      "outputs": [],
      "source": [
        "# #BBG+BB+BBB+SB (Ensemble with WF1)\n",
        "for i in range(0,len(probab1)):\n",
        "  sum0.append(((probab5.iloc[i][1]*cr5.iloc[4][3])+(probab1.iloc[i][1]*cr1.iloc[4][3])+(probab3.iloc[i][1]*cr3.iloc[4][3])+(probab2.iloc[i][1]*cr2.iloc[4][3]))/crsumw)\n",
        "  sum1.append(((probab5.iloc[i][2]*cr5.iloc[4][3])+(probab1.iloc[i][2]*cr1.iloc[4][3])+(probab3.iloc[i][2]*cr3.iloc[4][3])+(probab2.iloc[i][2]*cr2.iloc[4][3]))/crsumw)"
      ]
    },
    {
      "cell_type": "code",
      "execution_count": null,
      "metadata": {
        "colab": {
          "background_save": true
        },
        "id": "W2dxMRys3rpY"
      },
      "outputs": [],
      "source": [
        "#BBG+BB+BBB+SB (Ensemble with F1)\n",
        "for i in range(0,len(probab1)):\n",
        "  sum0.append((probab1.iloc[i][1]*cr1.iloc[0][3]+probab2.iloc[i][1]*cr2.iloc[0][3]+probab3.iloc[i][1]*cr3.iloc[0][3]+probab5.iloc[i][1]*cr5.iloc[0][3])/crsum0)\n",
        "  sum1.append((probab1.iloc[i][2]*cr1.iloc[1][3]+probab2.iloc[i][2]*cr2.iloc[1][3]+probab3.iloc[i][2]*cr3.iloc[1][3]+probab5.iloc[i][2]*cr5.iloc[1][3])/crsum1)"
      ]
    },
    {
      "cell_type": "code",
      "execution_count": null,
      "metadata": {
        "id": "sxEtvGRTYUP8"
      },
      "outputs": [],
      "source": [
        "#BBG+BBL+BBB+SB Summation of f1 score\n",
        "crsum0=cr1.iloc[0][3]+cr2.iloc[0][3]+cr5.iloc[0][3]+cr4.iloc[0][3]\n",
        "crsum1=cr1.iloc[1][3]+cr2.iloc[1][3]+cr5.iloc[1][3]+cr4.iloc[1][3]\n",
        "crsumw=cr1.iloc[4][3]+cr2.iloc[4][3]+cr5.iloc[4][3]+cr4.iloc[4][3] #Summation of Wf1 score"
      ]
    },
    {
      "cell_type": "code",
      "execution_count": null,
      "metadata": {
        "id": "CLz5SQZDmXFK"
      },
      "outputs": [],
      "source": [
        "# #BBG+BBL+BBB+SB (Ensemble with WF1)\n",
        "for i in range(0,len(probab1)):\n",
        "  sum0.append(((probab5.iloc[i][1]*cr5.iloc[4][3])+(probab1.iloc[i][1]*cr1.iloc[4][3])+(probab4.iloc[i][1]*cr4.iloc[4][3])+(probab2.iloc[i][1]*cr2.iloc[4][3]))/crsumw)\n",
        "  sum1.append(((probab5.iloc[i][2]*cr5.iloc[4][3])+(probab1.iloc[i][2]*cr1.iloc[4][3])+(probab4.iloc[i][2]*cr4.iloc[4][3])+(probab2.iloc[i][2]*cr2.iloc[4][3]))/crsumw)"
      ]
    },
    {
      "cell_type": "code",
      "execution_count": null,
      "metadata": {
        "colab": {
          "background_save": true
        },
        "id": "0IAJ5STJ3v7h"
      },
      "outputs": [],
      "source": [
        "#BBG+BBL+BBB+SB (Ensemble with F1)\n",
        "for i in range(0,len(probab1)):\n",
        "  sum0.append((probab1.iloc[i][1]*cr1.iloc[0][3]+probab2.iloc[i][1]*cr2.iloc[0][3]+probab5.iloc[i][1]*cr5.iloc[0][3]+probab4.iloc[i][1]*cr4.iloc[0][3])/crsum0)\n",
        "  sum1.append((probab1.iloc[i][2]*cr1.iloc[1][3]+probab2.iloc[i][2]*cr2.iloc[1][3]+probab5.iloc[i][2]*cr5.iloc[1][3]+probab4.iloc[i][2]*cr4.iloc[1][3])/crsum1)"
      ]
    },
    {
      "cell_type": "code",
      "execution_count": null,
      "metadata": {
        "id": "lQGDIp0MaKHe"
      },
      "outputs": [],
      "source": [
        "#BBG+BB+SB+BBL+BBB Summation of f1 score\n",
        "crsum0=cr1.iloc[0][3]+cr2.iloc[0][3]+cr3.iloc[0][3]+cr4.iloc[0][3]+cr5.iloc[0][3]\n",
        "crsum1=cr1.iloc[1][3]+cr2.iloc[1][3]+cr3.iloc[1][3]+cr4.iloc[1][3]+cr5.iloc[1][3]\n",
        "crsumw=cr1.iloc[4][3]+cr2.iloc[4][3]+cr3.iloc[4][3]+cr4.iloc[4][3]+cr5.iloc[4][3] #Summation of Wf1 score"
      ]
    },
    {
      "cell_type": "code",
      "execution_count": null,
      "metadata": {
        "id": "89phOOp7m4DZ"
      },
      "outputs": [],
      "source": [
        "# #BBG+BB+SB+BBL+BBB (Ensemble with WF1)\n",
        "for i in range(0,len(probab1)):\n",
        "  sum0.append(((probab5.iloc[i][1]*cr5.iloc[4][3])+(probab1.iloc[i][1]*cr1.iloc[4][3])+(probab4.iloc[i][1]*cr4.iloc[4][3])+(probab2.iloc[i][1]*cr2.iloc[4][3])+(probab3.iloc[i][1]*cr3.iloc[4][3]))/crsumw)\n",
        "  sum1.append(((probab5.iloc[i][2]*cr5.iloc[4][3])+(probab1.iloc[i][2]*cr1.iloc[4][3])+(probab4.iloc[i][2]*cr4.iloc[4][3])+(probab2.iloc[i][2]*cr2.iloc[4][3])+(probab3.iloc[i][2]*cr3.iloc[4][3]))/crsumw)"
      ]
    },
    {
      "cell_type": "code",
      "execution_count": null,
      "metadata": {
        "id": "0WpTpBAVvR0e"
      },
      "outputs": [],
      "source": [
        "#BBG+BB+SB+BBL+BBB (Ensemble with F1)\n",
        "for i in range(0,len(probab1)):\n",
        "   sum0.append((probab1.iloc[i][1]*cr1.iloc[0][3]+probab2.iloc[i][1]*cr2.iloc[0][3]+probab3.iloc[i][1]*cr3.iloc[0][3]+probab4.iloc[i][1]*cr4.iloc[0][3]+probab5.iloc[i][1]*cr5.iloc[0][3])/crsum0)\n",
        "   sum1.append((probab1.iloc[i][2]*cr1.iloc[1][3]+probab2.iloc[i][2]*cr2.iloc[1][3]+probab3.iloc[i][2]*cr3.iloc[1][3]+probab4.iloc[i][2]*cr4.iloc[1][3]+probab5.iloc[i][2]*cr5.iloc[1][3])/crsum1)"
      ]
    },
    {
      "cell_type": "code",
      "execution_count": null,
      "metadata": {
        "id": "ig9xuXU4wbsb"
      },
      "outputs": [],
      "source": [
        "pred=[]"
      ]
    },
    {
      "cell_type": "code",
      "execution_count": null,
      "metadata": {
        "id": "2MHVdhghxTFx"
      },
      "outputs": [],
      "source": [
        "#from IPython.core.profiledir import ProfileDir\n",
        "for i in range(0,len(probab1)):\n",
        "  if sum0[i]>sum1[i]:\n",
        "    pred.append(0)\n",
        "  else:\n",
        "    pred.append(1)\n"
      ]
    },
    {
      "cell_type": "code",
      "execution_count": null,
      "metadata": {
        "id": "G_-BEhy3x4vv"
      },
      "outputs": [],
      "source": [
        "truelabel = pd.read_csv(\"/content/drive/MyDrive/Data712/BF/Results/test/sagar/predict\"+str(id)+\"buet_gen.csv\")\n",
        "print(truelabel)"
      ]
    },
    {
      "cell_type": "code",
      "execution_count": null,
      "metadata": {
        "id": "8LMB6Q2yyLAZ"
      },
      "outputs": [],
      "source": [
        "true=[]\n",
        "for i in range(0,len(probab1)):\n",
        "  true.append(truelabel.iloc[i][2])\n",
        "print(true)"
      ]
    },
    {
      "cell_type": "code",
      "execution_count": null,
      "metadata": {
        "id": "J3g9zYcLyqlY"
      },
      "outputs": [],
      "source": [
        "y_true=true\n",
        "classes_xy=pred"
      ]
    },
    {
      "cell_type": "code",
      "execution_count": null,
      "metadata": {
        "id": "lWxlrno7yZkw"
      },
      "outputs": [],
      "source": [
        "from collections import Counter\n",
        "from sklearn.metrics import classification_report, confusion_matrix, accuracy_score, roc_auc_score\n",
        "\n",
        "from sklearn.metrics import roc_auc_score\n",
        "x=roc_auc_score(y_true,classes_xy )\n",
        "\n",
        "from sklearn.metrics import matthews_corrcoef\n",
        "mcc=matthews_corrcoef(y_true,classes_xy)\n",
        "\n",
        "from sklearn.metrics import confusion_matrix\n",
        "conf=confusion_matrix(y_true, classes_xy)\n",
        "cr=classification_report(y_true, classes_xy,digits=4,output_dict=True)"
      ]
    },
    {
      "cell_type": "code",
      "execution_count": null,
      "metadata": {
        "id": "H5IrRq0_y1ro"
      },
      "outputs": [],
      "source": [
        "training_stats_report=[]\n",
        "training_stats_report.append(\n",
        "        {\n",
        "            'roc-auc': x,\n",
        "            'mcc': mcc,\n",
        "            'conf_0_0': conf[0][0],\n",
        "            'conf_0_1': conf[0][1],\n",
        "            'conf_1_0': conf[1][0],\n",
        "            'conf_1_1': conf[1][1],\n",
        "            'cr': cr\n",
        "        }\n",
        "    )"
      ]
    },
    {
      "cell_type": "code",
      "execution_count": null,
      "metadata": {
        "id": "Wf2TH6G4zAR-"
      },
      "outputs": [],
      "source": [
        "df = pd.DataFrame(training_stats_report) \n",
        "df4 = pd.DataFrame(classes_xy,columns=['Pred'])\n",
        "df4['True']=y_true\n",
        "df5= pd.DataFrame(cr).transpose()\n",
        "    \n",
        "# saving the dataframe \n",
        "df.to_csv(\"/content/drive/MyDrive/Data712/BF/Results/test/nlpaug/ensamble/performance\"+str(id)+str(modelname)+\".csv\") \n",
        "#df2.to_csv(\"C:/Users/MSI/Desktop/BFRD/Final/nlpaug/history\"+str(id)+str(modelname)+\".csv\") \n",
        "#df3.to_csv(\"C:/Users/MSI/Desktop/BFRD/Final/nlpaug/test/nlpaug/ensamble/probab\"+str(id)+str(modelname)+\".csv\") \n",
        "df4.to_csv(\"/content/drive/MyDrive/Data712/BF/Results/test/nlpaug/ensamble/predict\"+str(id)+str(modelname)+\".csv\") \n",
        "df5.to_csv(\"/content/drive/MyDrive/Data712/BF/Results/test/nlpaug/ensamble/cr\"+str(id)+str(modelname)+\".csv\") "
      ]
    },
    {
      "cell_type": "code",
      "execution_count": null,
      "metadata": {
        "id": "vq0t1r7mgSLB"
      },
      "outputs": [],
      "source": []
    }
  ],
  "metadata": {
    "colab": {
      "provenance": []
    },
    "kernelspec": {
      "display_name": "Python 3",
      "name": "python3"
    },
    "language_info": {
      "name": "python"
    }
  },
  "nbformat": 4,
  "nbformat_minor": 0
}