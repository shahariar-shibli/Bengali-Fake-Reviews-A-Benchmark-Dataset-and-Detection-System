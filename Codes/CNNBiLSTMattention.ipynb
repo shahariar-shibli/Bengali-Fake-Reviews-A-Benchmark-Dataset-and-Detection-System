{
  "nbformat": 4,
  "nbformat_minor": 0,
  "metadata": {
    "colab": {
      "provenance": []
    },
    "kernelspec": {
      "name": "python3",
      "display_name": "Python 3"
    },
    "language_info": {
      "name": "python"
    },
    "gpuClass": "standard",
    "accelerator": "GPU"
  },
  "cells": [
    {
      "cell_type": "code",
      "source": [
        "import tensorflow as tf\n",
        "print(tf. __version__)"
      ],
      "metadata": {
        "colab": {
          "base_uri": "https://localhost:8080/"
        },
        "id": "bss2l49zJXVy",
        "outputId": "52f3a5eb-1df0-411f-fc77-f1e38e723093"
      },
      "execution_count": null,
      "outputs": [
        {
          "output_type": "stream",
          "name": "stdout",
          "text": [
            "2.12.0\n"
          ]
        }
      ]
    },
    {
      "cell_type": "code",
      "source": [
        "import keras \n",
        "print(keras.__version__)"
      ],
      "metadata": {
        "colab": {
          "base_uri": "https://localhost:8080/"
        },
        "id": "iksY5JA4JwnA",
        "outputId": "3457b6cf-ee2a-440c-fbc5-e0fba7e83987"
      },
      "execution_count": null,
      "outputs": [
        {
          "output_type": "stream",
          "name": "stdout",
          "text": [
            "2.12.0\n"
          ]
        }
      ]
    },
    {
      "cell_type": "code",
      "source": [
        "import nltk\n",
        "import sklearn\n",
        "\n",
        "print('The nltk version is {}.'.format(nltk.__version__))\n",
        "print('The scikit-learn version is {}.'.format(sklearn.__version__))"
      ],
      "metadata": {
        "id": "DRONTCT5KHqP",
        "outputId": "783c94d5-a513-4b65-a6fc-c2fc15b812eb",
        "colab": {
          "base_uri": "https://localhost:8080/"
        }
      },
      "execution_count": null,
      "outputs": [
        {
          "output_type": "stream",
          "name": "stdout",
          "text": [
            "The nltk version is 3.8.1.\n",
            "The scikit-learn version is 1.2.2.\n"
          ]
        }
      ]
    },
    {
      "cell_type": "code",
      "execution_count": null,
      "metadata": {
        "id": "MD_CGqiUxf_o",
        "colab": {
          "base_uri": "https://localhost:8080/"
        },
        "outputId": "0cbb5dc0-8b2a-4cf1-cee6-da772d654271"
      },
      "outputs": [
        {
          "output_type": "stream",
          "name": "stdout",
          "text": [
            "Looking in indexes: https://pypi.org/simple, https://us-python.pkg.dev/colab-wheels/public/simple/\n",
            "Collecting neattext\n",
            "  Downloading neattext-0.1.3-py3-none-any.whl (114 kB)\n",
            "\u001b[2K     \u001b[90m━━━━━━━━━━━━━━━━━━━━━━━━━━━━━━━━━━━━━━━\u001b[0m \u001b[32m114.7/114.7 kB\u001b[0m \u001b[31m3.4 MB/s\u001b[0m eta \u001b[36m0:00:00\u001b[0m\n",
            "\u001b[?25hInstalling collected packages: neattext\n",
            "Successfully installed neattext-0.1.3\n"
          ]
        }
      ],
      "source": [
        "pip install neattext"
      ]
    },
    {
      "cell_type": "code",
      "source": [
        "import re\n",
        "import string\n",
        "import nltk\n",
        "import numpy as np\n",
        "import pandas as pd\n",
        "import seaborn as sns\n",
        "import matplotlib.pyplot as plt\n",
        "from sklearn.preprocessing import StandardScaler\n",
        "\n",
        "import neattext.functions as nfx\n",
        "from nltk.corpus import stopwords\n",
        "from nltk.stem import PorterStemmer\n",
        "\n",
        "from nltk.corpus import stopwords\n",
        "from tensorflow.keras.utils import to_categorical\n",
        "from tensorflow.keras.preprocessing.text import Tokenizer\n",
        "from tensorflow.keras.preprocessing.sequence import pad_sequences\n",
        "from sklearn.preprocessing import LabelEncoder\n",
        "from sklearn.naive_bayes import MultinomialNB\n",
        "from sklearn.preprocessing import OneHotEncoder\n",
        "from tensorflow.keras.optimizers import Adam\n",
        "from keras.models import Sequential\n",
        "from keras.layers import Embedding, Dense, LSTM, Dropout, Conv1D, GlobalMaxPooling1D, MaxPooling1D,  Activation\n",
        "from keras.callbacks import Callback, EarlyStopping\n",
        "from sklearn.metrics import classification_report, confusion_matrix, accuracy_score"
      ],
      "metadata": {
        "id": "iAAveYt4QQr0"
      },
      "execution_count": null,
      "outputs": []
    },
    {
      "cell_type": "code",
      "source": [
        "import pandas as pd\n",
        "from pandas import read_excel\n",
        "import numpy as np\n",
        "import re\n",
        "from re import sub\n",
        "import multiprocessing\n",
        "#from unidecode import unidecode\n",
        "import os\n",
        "from time import time \n",
        "import tensorflow as tf\n",
        "import keras\n",
        "from keras.models import Sequential\n",
        "from keras.layers import LSTM,Dense,Dropout,Activation,Embedding,Flatten,Bidirectional,MaxPooling2D, Conv1D, MaxPooling1D\n",
        "from keras.optimizers import SGD,Adam\n",
        "from keras import regularizers\n",
        "from keras.preprocessing.text import Tokenizer\n",
        "#from keras.preprocessing.sequence import pad_sequences\n",
        "from keras.utils.np_utils import to_categorical\n",
        "import h5py\n",
        "import csv\n",
        "import seaborn as sns\n",
        "import matplotlib.pyplot as plt\n",
        "from sklearn.model_selection import train_test_split\n",
        "from sklearn.model_selection import StratifiedKFold"
      ],
      "metadata": {
        "id": "Mup-gChDE-qN"
      },
      "execution_count": null,
      "outputs": []
    },
    {
      "cell_type": "code",
      "source": [
        "from google.colab import drive\n",
        "drive.mount('/content/drive')"
      ],
      "metadata": {
        "colab": {
          "base_uri": "https://localhost:8080/"
        },
        "id": "VcX_TtZnPWsz",
        "outputId": "dd3c9fa2-550d-42bd-81be-e2f870709023"
      },
      "execution_count": null,
      "outputs": [
        {
          "output_type": "stream",
          "name": "stdout",
          "text": [
            "Mounted at /content/drive\n"
          ]
        }
      ]
    },
    {
      "cell_type": "code",
      "source": [
        "fake = pd.read_excel(\"/content/drive/MyDrive/Data712/BF/fake.xlsx\")\n",
        "authentic = pd.read_excel(\"/content/drive/MyDrive/Data712/BF/real.xlsx\")\n",
        "print(len(fake))"
      ],
      "metadata": {
        "colab": {
          "base_uri": "https://localhost:8080/"
        },
        "id": "V6L71mKiIL5g",
        "outputId": "dbffad4b-f011-4362-c257-725dba7f73fc"
      },
      "execution_count": null,
      "outputs": [
        {
          "output_type": "stream",
          "name": "stdout",
          "text": [
            "1339\n"
          ]
        }
      ]
    },
    {
      "cell_type": "code",
      "source": [
        "%%capture\n",
        "!pip3 install git+https://github.com/csebuetnlp/normalizer"
      ],
      "metadata": {
        "id": "fIt9u0UJIUoP"
      },
      "execution_count": null,
      "outputs": []
    },
    {
      "cell_type": "code",
      "source": [
        "from normalizer import normalize\n",
        "def norm(txt):\n",
        "  return normalize(txt)"
      ],
      "metadata": {
        "id": "zSINFVniITey"
      },
      "execution_count": null,
      "outputs": []
    },
    {
      "cell_type": "code",
      "source": [
        "for i in range(len(fake)):\n",
        "  fake['Translated'][i]=norm(fake['Translated'][i])"
      ],
      "metadata": {
        "colab": {
          "base_uri": "https://localhost:8080/"
        },
        "id": "sT8Sr6eXIax-",
        "outputId": "faedc2bd-f4d6-47d2-faca-1ffbf7c9819a"
      },
      "execution_count": null,
      "outputs": [
        {
          "output_type": "stream",
          "name": "stderr",
          "text": [
            "<ipython-input-9-9bd2991d49d3>:2: SettingWithCopyWarning: \n",
            "A value is trying to be set on a copy of a slice from a DataFrame\n",
            "\n",
            "See the caveats in the documentation: https://pandas.pydata.org/pandas-docs/stable/user_guide/indexing.html#returning-a-view-versus-a-copy\n",
            "  fake['Translated'][i]=norm(fake['Translated'][i])\n"
          ]
        }
      ]
    },
    {
      "cell_type": "code",
      "source": [
        "df=pd.read_excel(\"/content/drive/MyDrive/Data712/BF/augmentedwithnormalized.xlsx\")"
      ],
      "metadata": {
        "id": "j5bLA_fbIrYw"
      },
      "execution_count": null,
      "outputs": []
    },
    {
      "cell_type": "code",
      "source": [
        "#x=df['Translated'][0][2:-2]\n",
        "for i in range(len(df)):\n",
        "  df['Translated'][i]=df['Translated'][i][2:-2]"
      ],
      "metadata": {
        "colab": {
          "base_uri": "https://localhost:8080/"
        },
        "id": "RFV1vZe3I_RO",
        "outputId": "8824b685-4e9e-49b1-aa75-2c503bcc4f81"
      },
      "execution_count": null,
      "outputs": [
        {
          "output_type": "stream",
          "name": "stderr",
          "text": [
            "<ipython-input-11-dca4b9ebde82>:3: SettingWithCopyWarning: \n",
            "A value is trying to be set on a copy of a slice from a DataFrame\n",
            "\n",
            "See the caveats in the documentation: https://pandas.pydata.org/pandas-docs/stable/user_guide/indexing.html#returning-a-view-versus-a-copy\n",
            "  df['Translated'][i]=df['Translated'][i][2:-2]\n"
          ]
        }
      ]
    },
    {
      "cell_type": "code",
      "source": [
        "len(df)"
      ],
      "metadata": {
        "colab": {
          "base_uri": "https://localhost:8080/"
        },
        "id": "BWNiuCe5P7TF",
        "outputId": "ec45dd21-f1ad-438e-cc07-987782e712f3"
      },
      "execution_count": null,
      "outputs": [
        {
          "output_type": "execute_result",
          "data": {
            "text/plain": [
              "1339"
            ]
          },
          "metadata": {},
          "execution_count": 12
        }
      ]
    },
    {
      "cell_type": "code",
      "source": [
        "authentic1= authentic.sample(frac=0.3474)\n",
        "#authentic1= authentic[0:2678]\n",
        "print(len(authentic1))\n",
        "#authentic1['Translated'][0]"
      ],
      "metadata": {
        "colab": {
          "base_uri": "https://localhost:8080/"
        },
        "id": "I9W21q2JJCyW",
        "outputId": "2a05f619-3b62-48e8-83a3-074f74ffc80d"
      },
      "execution_count": null,
      "outputs": [
        {
          "output_type": "stream",
          "name": "stdout",
          "text": [
            "2678\n"
          ]
        }
      ]
    },
    {
      "cell_type": "code",
      "source": [
        "concated1 = pd.concat([authentic1[['Translated','Label']],fake[['Translated','Label']]])\n",
        "concated1.reset_index(drop=True,inplace=True)"
      ],
      "metadata": {
        "id": "_Ov5B2vUJF7a"
      },
      "execution_count": null,
      "outputs": []
    },
    {
      "cell_type": "code",
      "source": [
        "for i in range(len(concated1)):\n",
        "  #print(i)\n",
        "  concated1['Translated'][i]=norm(concated1['Translated'][i])"
      ],
      "metadata": {
        "colab": {
          "base_uri": "https://localhost:8080/"
        },
        "id": "QQ1Pn2sCJJzS",
        "outputId": "83300531-5e4e-4d56-f717-7f99d6651a84"
      },
      "execution_count": null,
      "outputs": [
        {
          "output_type": "stream",
          "name": "stderr",
          "text": [
            "<ipython-input-14-2bed8d9e8e6b>:3: SettingWithCopyWarning: \n",
            "A value is trying to be set on a copy of a slice from a DataFrame\n",
            "\n",
            "See the caveats in the documentation: https://pandas.pydata.org/pandas-docs/stable/user_guide/indexing.html#returning-a-view-versus-a-copy\n",
            "  concated1['Translated'][i]=norm(concated1['Translated'][i])\n"
          ]
        }
      ]
    },
    {
      "cell_type": "code",
      "source": [
        "concated2 = pd.concat([concated1[['Translated','Label']],df[['Translated','Label']]])\n",
        "concated2.reset_index(drop=True,inplace=True)"
      ],
      "metadata": {
        "id": "1_PO_LhrJKep"
      },
      "execution_count": null,
      "outputs": []
    },
    {
      "cell_type": "code",
      "source": [
        "concated2['text'] = concated2['Translated']"
      ],
      "metadata": {
        "id": "Iu38N6fdJMiK"
      },
      "execution_count": null,
      "outputs": []
    },
    {
      "cell_type": "code",
      "source": [
        "concated2 = concated2.drop(['Translated'],axis=1)"
      ],
      "metadata": {
        "id": "LVivwbYGJOIg"
      },
      "execution_count": null,
      "outputs": []
    },
    {
      "cell_type": "code",
      "source": [
        "concated2.head(100)"
      ],
      "metadata": {
        "colab": {
          "base_uri": "https://localhost:8080/",
          "height": 424
        },
        "id": "LDfepr-hJRMn",
        "outputId": "1696a17b-75b9-41f5-f513-2088523c346f"
      },
      "execution_count": null,
      "outputs": [
        {
          "output_type": "execute_result",
          "data": {
            "text/plain": [
              "    Label                                               text\n",
              "0       1  ৪ ৫ পিস মাটনের সাথে এক গাদা রাইস যাহা ১জনের জন...\n",
              "1       1  আইটেম চান্দুর নেহারী লোকেশন মিরপুর ১২ ই ব্লক ক...\n",
              "2       1  স্বল্প খরচে উত্তরাতে লাঞ্চ সারার জন্য সেরা । ই...\n",
              "3       1  স্থান হটপ্লেটখানা খাইদ্য চিকেন স্টেক রাইস বিফ ...\n",
              "4       1  বাংলাদেশি খাদ্য পর্যালোচক ফাহিম ভাইয়ার রিভিউ ...\n",
              "..    ...                                                ...\n",
              "95      1  এক এইচ আর উপদেশ দিয়ে ছিল গত মাসে ফালুদার পোষ্...\n",
              "96      1  পজিটিভ রিভিউ অসাধারণ এক কাচ্চির গল্প। জলপ্রপাত...\n",
              "97      1  দ্য পাবুলাম কমের ভিতর টাওয়ার সমান বার্গার খুব...\n",
              "98      1  যাদের মুরগীর চাপ গরুর চাপ শিক কাবাব বটি কাবাব ...\n",
              "99      1  আস সালামু আলাইকুম কেমন আছেন কথা কম কাজ বেশী । ...\n",
              "\n",
              "[100 rows x 2 columns]"
            ],
            "text/html": [
              "\n",
              "  <div id=\"df-1efee01a-438f-4212-8e2b-fa4907ebb5ca\">\n",
              "    <div class=\"colab-df-container\">\n",
              "      <div>\n",
              "<style scoped>\n",
              "    .dataframe tbody tr th:only-of-type {\n",
              "        vertical-align: middle;\n",
              "    }\n",
              "\n",
              "    .dataframe tbody tr th {\n",
              "        vertical-align: top;\n",
              "    }\n",
              "\n",
              "    .dataframe thead th {\n",
              "        text-align: right;\n",
              "    }\n",
              "</style>\n",
              "<table border=\"1\" class=\"dataframe\">\n",
              "  <thead>\n",
              "    <tr style=\"text-align: right;\">\n",
              "      <th></th>\n",
              "      <th>Label</th>\n",
              "      <th>text</th>\n",
              "    </tr>\n",
              "  </thead>\n",
              "  <tbody>\n",
              "    <tr>\n",
              "      <th>0</th>\n",
              "      <td>1</td>\n",
              "      <td>৪ ৫ পিস মাটনের সাথে এক গাদা রাইস যাহা ১জনের জন...</td>\n",
              "    </tr>\n",
              "    <tr>\n",
              "      <th>1</th>\n",
              "      <td>1</td>\n",
              "      <td>আইটেম চান্দুর নেহারী লোকেশন মিরপুর ১২ ই ব্লক ক...</td>\n",
              "    </tr>\n",
              "    <tr>\n",
              "      <th>2</th>\n",
              "      <td>1</td>\n",
              "      <td>স্বল্প খরচে উত্তরাতে লাঞ্চ সারার জন্য সেরা । ই...</td>\n",
              "    </tr>\n",
              "    <tr>\n",
              "      <th>3</th>\n",
              "      <td>1</td>\n",
              "      <td>স্থান হটপ্লেটখানা খাইদ্য চিকেন স্টেক রাইস বিফ ...</td>\n",
              "    </tr>\n",
              "    <tr>\n",
              "      <th>4</th>\n",
              "      <td>1</td>\n",
              "      <td>বাংলাদেশি খাদ্য পর্যালোচক ফাহিম ভাইয়ার রিভিউ ...</td>\n",
              "    </tr>\n",
              "    <tr>\n",
              "      <th>...</th>\n",
              "      <td>...</td>\n",
              "      <td>...</td>\n",
              "    </tr>\n",
              "    <tr>\n",
              "      <th>95</th>\n",
              "      <td>1</td>\n",
              "      <td>এক এইচ আর উপদেশ দিয়ে ছিল গত মাসে ফালুদার পোষ্...</td>\n",
              "    </tr>\n",
              "    <tr>\n",
              "      <th>96</th>\n",
              "      <td>1</td>\n",
              "      <td>পজিটিভ রিভিউ অসাধারণ এক কাচ্চির গল্প। জলপ্রপাত...</td>\n",
              "    </tr>\n",
              "    <tr>\n",
              "      <th>97</th>\n",
              "      <td>1</td>\n",
              "      <td>দ্য পাবুলাম কমের ভিতর টাওয়ার সমান বার্গার খুব...</td>\n",
              "    </tr>\n",
              "    <tr>\n",
              "      <th>98</th>\n",
              "      <td>1</td>\n",
              "      <td>যাদের মুরগীর চাপ গরুর চাপ শিক কাবাব বটি কাবাব ...</td>\n",
              "    </tr>\n",
              "    <tr>\n",
              "      <th>99</th>\n",
              "      <td>1</td>\n",
              "      <td>আস সালামু আলাইকুম কেমন আছেন কথা কম কাজ বেশী । ...</td>\n",
              "    </tr>\n",
              "  </tbody>\n",
              "</table>\n",
              "<p>100 rows × 2 columns</p>\n",
              "</div>\n",
              "      <button class=\"colab-df-convert\" onclick=\"convertToInteractive('df-1efee01a-438f-4212-8e2b-fa4907ebb5ca')\"\n",
              "              title=\"Convert this dataframe to an interactive table.\"\n",
              "              style=\"display:none;\">\n",
              "        \n",
              "  <svg xmlns=\"http://www.w3.org/2000/svg\" height=\"24px\"viewBox=\"0 0 24 24\"\n",
              "       width=\"24px\">\n",
              "    <path d=\"M0 0h24v24H0V0z\" fill=\"none\"/>\n",
              "    <path d=\"M18.56 5.44l.94 2.06.94-2.06 2.06-.94-2.06-.94-.94-2.06-.94 2.06-2.06.94zm-11 1L8.5 8.5l.94-2.06 2.06-.94-2.06-.94L8.5 2.5l-.94 2.06-2.06.94zm10 10l.94 2.06.94-2.06 2.06-.94-2.06-.94-.94-2.06-.94 2.06-2.06.94z\"/><path d=\"M17.41 7.96l-1.37-1.37c-.4-.4-.92-.59-1.43-.59-.52 0-1.04.2-1.43.59L10.3 9.45l-7.72 7.72c-.78.78-.78 2.05 0 2.83L4 21.41c.39.39.9.59 1.41.59.51 0 1.02-.2 1.41-.59l7.78-7.78 2.81-2.81c.8-.78.8-2.07 0-2.86zM5.41 20L4 18.59l7.72-7.72 1.47 1.35L5.41 20z\"/>\n",
              "  </svg>\n",
              "      </button>\n",
              "      \n",
              "  <style>\n",
              "    .colab-df-container {\n",
              "      display:flex;\n",
              "      flex-wrap:wrap;\n",
              "      gap: 12px;\n",
              "    }\n",
              "\n",
              "    .colab-df-convert {\n",
              "      background-color: #E8F0FE;\n",
              "      border: none;\n",
              "      border-radius: 50%;\n",
              "      cursor: pointer;\n",
              "      display: none;\n",
              "      fill: #1967D2;\n",
              "      height: 32px;\n",
              "      padding: 0 0 0 0;\n",
              "      width: 32px;\n",
              "    }\n",
              "\n",
              "    .colab-df-convert:hover {\n",
              "      background-color: #E2EBFA;\n",
              "      box-shadow: 0px 1px 2px rgba(60, 64, 67, 0.3), 0px 1px 3px 1px rgba(60, 64, 67, 0.15);\n",
              "      fill: #174EA6;\n",
              "    }\n",
              "\n",
              "    [theme=dark] .colab-df-convert {\n",
              "      background-color: #3B4455;\n",
              "      fill: #D2E3FC;\n",
              "    }\n",
              "\n",
              "    [theme=dark] .colab-df-convert:hover {\n",
              "      background-color: #434B5C;\n",
              "      box-shadow: 0px 1px 3px 1px rgba(0, 0, 0, 0.15);\n",
              "      filter: drop-shadow(0px 1px 2px rgba(0, 0, 0, 0.3));\n",
              "      fill: #FFFFFF;\n",
              "    }\n",
              "  </style>\n",
              "\n",
              "      <script>\n",
              "        const buttonEl =\n",
              "          document.querySelector('#df-1efee01a-438f-4212-8e2b-fa4907ebb5ca button.colab-df-convert');\n",
              "        buttonEl.style.display =\n",
              "          google.colab.kernel.accessAllowed ? 'block' : 'none';\n",
              "\n",
              "        async function convertToInteractive(key) {\n",
              "          const element = document.querySelector('#df-1efee01a-438f-4212-8e2b-fa4907ebb5ca');\n",
              "          const dataTable =\n",
              "            await google.colab.kernel.invokeFunction('convertToInteractive',\n",
              "                                                     [key], {});\n",
              "          if (!dataTable) return;\n",
              "\n",
              "          const docLinkHtml = 'Like what you see? Visit the ' +\n",
              "            '<a target=\"_blank\" href=https://colab.research.google.com/notebooks/data_table.ipynb>data table notebook</a>'\n",
              "            + ' to learn more about interactive tables.';\n",
              "          element.innerHTML = '';\n",
              "          dataTable['output_type'] = 'display_data';\n",
              "          await google.colab.output.renderOutput(dataTable, element);\n",
              "          const docLink = document.createElement('div');\n",
              "          docLink.innerHTML = docLinkHtml;\n",
              "          element.appendChild(docLink);\n",
              "        }\n",
              "      </script>\n",
              "    </div>\n",
              "  </div>\n",
              "  "
            ]
          },
          "metadata": {},
          "execution_count": 18
        }
      ]
    },
    {
      "cell_type": "code",
      "source": [
        "concated2.loc[concated2.Label == 0].sample(5)[['text', 'Label']]"
      ],
      "metadata": {
        "colab": {
          "base_uri": "https://localhost:8080/",
          "height": 206
        },
        "id": "7j1lztDuJUeP",
        "outputId": "1f188358-6668-4b55-8070-1a136f24d96b"
      },
      "execution_count": null,
      "outputs": [
        {
          "output_type": "execute_result",
          "data": {
            "text/plain": [
              "                                                   text  Label\n",
              "4259  ইয়েস ভাই জিত্তা গেসি আমার পাচক এর ২ মিনিট এর ...      0\n",
              "3766  সিজলিং আর মাংসের ফালি একসাথে চাই গত পরশু দুই ভ...      0\n",
              "3949  ৩৫০ টাকায় ৩ জনের কম্বো অফার । সিগারেটের শেষ ট...      0\n",
              "4848  বাশ বাগান বাঁশ বাগান খুলনা আজকের অফার সেট মেনু...      0\n",
              "3231  ডিতিওন তিহ্যবাহী বাংলা ইফতার রাতের খাবার খাবার...      0"
            ],
            "text/html": [
              "\n",
              "  <div id=\"df-68a13e2e-b7b2-465b-8bb8-e4fdcc40f94a\">\n",
              "    <div class=\"colab-df-container\">\n",
              "      <div>\n",
              "<style scoped>\n",
              "    .dataframe tbody tr th:only-of-type {\n",
              "        vertical-align: middle;\n",
              "    }\n",
              "\n",
              "    .dataframe tbody tr th {\n",
              "        vertical-align: top;\n",
              "    }\n",
              "\n",
              "    .dataframe thead th {\n",
              "        text-align: right;\n",
              "    }\n",
              "</style>\n",
              "<table border=\"1\" class=\"dataframe\">\n",
              "  <thead>\n",
              "    <tr style=\"text-align: right;\">\n",
              "      <th></th>\n",
              "      <th>text</th>\n",
              "      <th>Label</th>\n",
              "    </tr>\n",
              "  </thead>\n",
              "  <tbody>\n",
              "    <tr>\n",
              "      <th>4259</th>\n",
              "      <td>ইয়েস ভাই জিত্তা গেসি আমার পাচক এর ২ মিনিট এর ...</td>\n",
              "      <td>0</td>\n",
              "    </tr>\n",
              "    <tr>\n",
              "      <th>3766</th>\n",
              "      <td>সিজলিং আর মাংসের ফালি একসাথে চাই গত পরশু দুই ভ...</td>\n",
              "      <td>0</td>\n",
              "    </tr>\n",
              "    <tr>\n",
              "      <th>3949</th>\n",
              "      <td>৩৫০ টাকায় ৩ জনের কম্বো অফার । সিগারেটের শেষ ট...</td>\n",
              "      <td>0</td>\n",
              "    </tr>\n",
              "    <tr>\n",
              "      <th>4848</th>\n",
              "      <td>বাশ বাগান বাঁশ বাগান খুলনা আজকের অফার সেট মেনু...</td>\n",
              "      <td>0</td>\n",
              "    </tr>\n",
              "    <tr>\n",
              "      <th>3231</th>\n",
              "      <td>ডিতিওন তিহ্যবাহী বাংলা ইফতার রাতের খাবার খাবার...</td>\n",
              "      <td>0</td>\n",
              "    </tr>\n",
              "  </tbody>\n",
              "</table>\n",
              "</div>\n",
              "      <button class=\"colab-df-convert\" onclick=\"convertToInteractive('df-68a13e2e-b7b2-465b-8bb8-e4fdcc40f94a')\"\n",
              "              title=\"Convert this dataframe to an interactive table.\"\n",
              "              style=\"display:none;\">\n",
              "        \n",
              "  <svg xmlns=\"http://www.w3.org/2000/svg\" height=\"24px\"viewBox=\"0 0 24 24\"\n",
              "       width=\"24px\">\n",
              "    <path d=\"M0 0h24v24H0V0z\" fill=\"none\"/>\n",
              "    <path d=\"M18.56 5.44l.94 2.06.94-2.06 2.06-.94-2.06-.94-.94-2.06-.94 2.06-2.06.94zm-11 1L8.5 8.5l.94-2.06 2.06-.94-2.06-.94L8.5 2.5l-.94 2.06-2.06.94zm10 10l.94 2.06.94-2.06 2.06-.94-2.06-.94-.94-2.06-.94 2.06-2.06.94z\"/><path d=\"M17.41 7.96l-1.37-1.37c-.4-.4-.92-.59-1.43-.59-.52 0-1.04.2-1.43.59L10.3 9.45l-7.72 7.72c-.78.78-.78 2.05 0 2.83L4 21.41c.39.39.9.59 1.41.59.51 0 1.02-.2 1.41-.59l7.78-7.78 2.81-2.81c.8-.78.8-2.07 0-2.86zM5.41 20L4 18.59l7.72-7.72 1.47 1.35L5.41 20z\"/>\n",
              "  </svg>\n",
              "      </button>\n",
              "      \n",
              "  <style>\n",
              "    .colab-df-container {\n",
              "      display:flex;\n",
              "      flex-wrap:wrap;\n",
              "      gap: 12px;\n",
              "    }\n",
              "\n",
              "    .colab-df-convert {\n",
              "      background-color: #E8F0FE;\n",
              "      border: none;\n",
              "      border-radius: 50%;\n",
              "      cursor: pointer;\n",
              "      display: none;\n",
              "      fill: #1967D2;\n",
              "      height: 32px;\n",
              "      padding: 0 0 0 0;\n",
              "      width: 32px;\n",
              "    }\n",
              "\n",
              "    .colab-df-convert:hover {\n",
              "      background-color: #E2EBFA;\n",
              "      box-shadow: 0px 1px 2px rgba(60, 64, 67, 0.3), 0px 1px 3px 1px rgba(60, 64, 67, 0.15);\n",
              "      fill: #174EA6;\n",
              "    }\n",
              "\n",
              "    [theme=dark] .colab-df-convert {\n",
              "      background-color: #3B4455;\n",
              "      fill: #D2E3FC;\n",
              "    }\n",
              "\n",
              "    [theme=dark] .colab-df-convert:hover {\n",
              "      background-color: #434B5C;\n",
              "      box-shadow: 0px 1px 3px 1px rgba(0, 0, 0, 0.15);\n",
              "      filter: drop-shadow(0px 1px 2px rgba(0, 0, 0, 0.3));\n",
              "      fill: #FFFFFF;\n",
              "    }\n",
              "  </style>\n",
              "\n",
              "      <script>\n",
              "        const buttonEl =\n",
              "          document.querySelector('#df-68a13e2e-b7b2-465b-8bb8-e4fdcc40f94a button.colab-df-convert');\n",
              "        buttonEl.style.display =\n",
              "          google.colab.kernel.accessAllowed ? 'block' : 'none';\n",
              "\n",
              "        async function convertToInteractive(key) {\n",
              "          const element = document.querySelector('#df-68a13e2e-b7b2-465b-8bb8-e4fdcc40f94a');\n",
              "          const dataTable =\n",
              "            await google.colab.kernel.invokeFunction('convertToInteractive',\n",
              "                                                     [key], {});\n",
              "          if (!dataTable) return;\n",
              "\n",
              "          const docLinkHtml = 'Like what you see? Visit the ' +\n",
              "            '<a target=\"_blank\" href=https://colab.research.google.com/notebooks/data_table.ipynb>data table notebook</a>'\n",
              "            + ' to learn more about interactive tables.';\n",
              "          element.innerHTML = '';\n",
              "          dataTable['output_type'] = 'display_data';\n",
              "          await google.colab.output.renderOutput(dataTable, element);\n",
              "          const docLink = document.createElement('div');\n",
              "          docLink.innerHTML = docLinkHtml;\n",
              "          element.appendChild(docLink);\n",
              "        }\n",
              "      </script>\n",
              "    </div>\n",
              "  </div>\n",
              "  "
            ]
          },
          "metadata": {},
          "execution_count": 19
        }
      ]
    },
    {
      "cell_type": "code",
      "source": [
        "concated2 = concated2.sample(frac=1).reset_index(drop=True)"
      ],
      "metadata": {
        "id": "oZ4FJHvLJWyK"
      },
      "execution_count": null,
      "outputs": []
    },
    {
      "cell_type": "code",
      "source": [
        "len(concated2)"
      ],
      "metadata": {
        "colab": {
          "base_uri": "https://localhost:8080/"
        },
        "id": "l2MiNcO5Qp2N",
        "outputId": "6e9d2bbc-e761-4450-ca72-0c06e0d6165a"
      },
      "execution_count": null,
      "outputs": [
        {
          "output_type": "execute_result",
          "data": {
            "text/plain": [
              "5356"
            ]
          },
          "metadata": {},
          "execution_count": 21
        }
      ]
    },
    {
      "cell_type": "code",
      "source": [
        "# Get the lists of sentences and their labels.\n",
        "sentences = concated2.text.values\n",
        "labels = concated2.Label.values"
      ],
      "metadata": {
        "id": "OdOwwJ9YJYs4"
      },
      "execution_count": null,
      "outputs": []
    },
    {
      "cell_type": "code",
      "source": [
        "len(sentences)"
      ],
      "metadata": {
        "colab": {
          "base_uri": "https://localhost:8080/"
        },
        "id": "2ru1KP7J_wlq",
        "outputId": "c18a3898-05aa-4a1f-ccba-c2ac08999f53"
      },
      "execution_count": null,
      "outputs": [
        {
          "output_type": "execute_result",
          "data": {
            "text/plain": [
              "5356"
            ]
          },
          "metadata": {},
          "execution_count": 23
        }
      ]
    },
    {
      "cell_type": "code",
      "source": [
        "from sklearn.model_selection import train_test_split"
      ],
      "metadata": {
        "id": "A3yDRVzYRjdM"
      },
      "execution_count": null,
      "outputs": []
    },
    {
      "cell_type": "code",
      "source": [
        "import keras\n",
        "from keras.utils.np_utils import to_categorical"
      ],
      "metadata": {
        "id": "lsB-E5DgApyq"
      },
      "execution_count": null,
      "outputs": []
    },
    {
      "cell_type": "code",
      "source": [
        "[train_I, rest_I,train_L,rest_L]= train_test_split(sentences,labels, test_size=0.2,train_size=0.8, shuffle=True, stratify=labels)\n",
        "[val_I, test_I,val_L,test_L]= train_test_split(rest_I, rest_L, test_size=0.5,train_size=0.5, shuffle=True, stratify=rest_L)   \n",
        "        \n"
      ],
      "metadata": {
        "id": "Orefus_lJt4a"
      },
      "execution_count": null,
      "outputs": []
    },
    {
      "cell_type": "code",
      "source": [
        "len(val_I)"
      ],
      "metadata": {
        "colab": {
          "base_uri": "https://localhost:8080/"
        },
        "id": "ulP5sB3UCX0A",
        "outputId": "ee7bb28c-5987-4441-f193-9cb9e4d26431"
      },
      "execution_count": null,
      "outputs": [
        {
          "output_type": "execute_result",
          "data": {
            "text/plain": [
              "536"
            ]
          },
          "metadata": {},
          "execution_count": 27
        }
      ]
    },
    {
      "cell_type": "code",
      "source": [
        "training_sentences = []\n",
        "testing_sentences = []\n",
        "val_sentences = []\n",
        "train_sentences = list(train_I)\n",
        "train_labels = train_L\n",
        "for i in range(len(train_sentences)): \n",
        "    #print(train_sentences[i])\n",
        "    x=str(train_sentences[i])\n",
        "    training_sentences.append(x)\n",
        "training_sentences=np.array(training_sentences)\n",
        "\n",
        "test_sentences=list(test_I)\n",
        "test_labels=test_L\n",
        "\n",
        "for i in range(len(test_sentences)): \n",
        "    x=str(test_sentences[i])\n",
        "    testing_sentences.append(x)\n",
        "testing_sentences=np.array(testing_sentences)\n",
        "\n",
        "validation_sentences=list(val_I)\n",
        "val_labels=val_L\n",
        "\n",
        "for i in range(len(validation_sentences)): \n",
        "    x=str(validation_sentences[i])\n",
        "    val_sentences.append(x)\n",
        "val_sentences=np.array(val_sentences)\n",
        "\n",
        "\n",
        "train_labels=keras.utils.to_categorical(train_labels)\n",
        "test_labels=keras.utils.to_categorical(test_labels)\n",
        "val_labels=keras.utils.to_categorical(val_labels)\n",
        "\n",
        "# print(\"Training Set Length: \"+str(len(train1)))\n",
        "# print(\"Testing Set Length: \"+str(len(test1)))\n",
        "print(\"training_sentences shape: \"+str(training_sentences.shape))\n",
        "print(\"testing_sentences shape: \"+str(testing_sentences.shape))\n",
        "print(\"validation_sentences shape: \"+str(val_sentences.shape))\n",
        "print(\"train_labels shape: \"+str(train_labels.shape))\n",
        "print(\"test_labels shape: \"+str(test_labels.shape))\n",
        "print(\"val_labels shape: \"+str(val_labels.shape))"
      ],
      "metadata": {
        "id": "lF-QIdF0AYJe",
        "colab": {
          "base_uri": "https://localhost:8080/"
        },
        "outputId": "faed4050-6692-4ac7-db68-00e90895b05a"
      },
      "execution_count": null,
      "outputs": [
        {
          "output_type": "stream",
          "name": "stdout",
          "text": [
            "training_sentences shape: (4284,)\n",
            "testing_sentences shape: (536,)\n",
            "validation_sentences shape: (536,)\n",
            "train_labels shape: (4284, 2)\n",
            "test_labels shape: (536, 2)\n",
            "val_labels shape: (536, 2)\n"
          ]
        }
      ]
    },
    {
      "cell_type": "code",
      "source": [
        "vocab_size = 25000\n",
        "embedding_dim = 300\n",
        "max_length = 512\n",
        "trunc_type='post'\n",
        "oov_tok = \"<OOV>\""
      ],
      "metadata": {
        "id": "LIRu9pb0DUB4"
      },
      "execution_count": null,
      "outputs": []
    },
    {
      "cell_type": "code",
      "source": [
        "tokenizer = Tokenizer(num_words = vocab_size, oov_token=oov_tok)\n",
        "tokenizer.fit_on_texts(training_sentences)\n",
        "word_index = tokenizer.word_index\n",
        "print(len(word_index))\n",
        "print(\"Word index length:\"+str(len(tokenizer.word_index)))\n",
        "sequences = tokenizer.texts_to_sequences(training_sentences)\n",
        "padded = pad_sequences(sequences,maxlen=max_length, truncating=trunc_type)\n",
        "\n",
        "\n",
        "test_sequences = tokenizer.texts_to_sequences(testing_sentences)\n",
        "testing_padded = pad_sequences(test_sequences,maxlen=max_length)\n",
        "\n",
        "val_sequences = tokenizer.texts_to_sequences(val_sentences)\n",
        "val_padded = pad_sequences(val_sequences,maxlen=max_length)"
      ],
      "metadata": {
        "colab": {
          "base_uri": "https://localhost:8080/"
        },
        "id": "FbnT5DWUD1ge",
        "outputId": "d3ea16b6-a34a-4c9f-897f-75f6c5309167"
      },
      "execution_count": null,
      "outputs": [
        {
          "output_type": "stream",
          "name": "stdout",
          "text": [
            "31549\n",
            "Word index length:31549\n"
          ]
        }
      ]
    },
    {
      "cell_type": "code",
      "source": [
        "print(\"Sentence :--> \\n\")\n",
        "print(training_sentences[2]+\"\\n\")\n",
        "print(\"Sentence Tokenized and Converted into Sequence :--> \\n\")\n",
        "print(str(sequences[2])+\"\\n\")\n",
        "print(\"After Padding the Sequence with padding length 100 :--> \\n\")\n",
        "print(padded[2])"
      ],
      "metadata": {
        "colab": {
          "base_uri": "https://localhost:8080/"
        },
        "id": "LSJmazeOEhpc",
        "outputId": "e388f41a-e384-419d-f80c-645ea9e4040e"
      },
      "execution_count": null,
      "outputs": [
        {
          "output_type": "stream",
          "name": "stdout",
          "text": [
            "Sentence :--> \n",
            "\n",
            "খুলনার অন্যতম বেস্ট খাসির হালিম রেটিং ১০ ১০ ব্যাবহার ১০ ১০ প্রাইস ৫০ টাকা তবে ৩০ থেকে শুরু লোকেশন রূপসা ট্রফিক মোড় রূপসা আংকেল ভ্যানে করে সেল করেন সন্ধ্যার পর থেকে রাত ১০ টা অবদি থাকেন তার ব্যাবহার ও খাবার কোয়ালিটি একদম সেরা যারা আগে ট্রাই করেছেন তারা অলরেডি জানেন কেমন আর যারা করেন নাই তাদের বলব একবার ট্রাই করতে ধন্যবাদ\n",
            "\n",
            "Sentence Tokenized and Converted into Sequence :--> \n",
            "\n",
            "[4686, 1454, 100, 698, 675, 62, 4, 4, 1245, 4, 4, 191, 244, 10, 71, 218, 28, 214, 166, 11683, 17919, 827, 11683, 11684, 17920, 13, 2663, 462, 2065, 113, 28, 550, 4, 19, 17921, 798, 134, 1245, 36, 20, 481, 148, 135, 224, 162, 96, 2066, 80, 4110, 2067, 381, 3, 224, 462, 98, 16, 760, 397, 96, 54, 293]\n",
            "\n",
            "After Padding the Sequence with padding length 100 :--> \n",
            "\n",
            "[    0     0     0     0     0     0     0     0     0     0     0     0\n",
            "     0     0     0     0     0     0     0     0     0     0     0     0\n",
            "     0     0     0     0     0     0     0     0     0     0     0     0\n",
            "     0     0     0     0     0     0     0     0     0     0     0     0\n",
            "     0     0     0     0     0     0     0     0     0     0     0     0\n",
            "     0     0     0     0     0     0     0     0     0     0     0     0\n",
            "     0     0     0     0     0     0     0     0     0     0     0     0\n",
            "     0     0     0     0     0     0     0     0     0     0     0     0\n",
            "     0     0     0     0     0     0     0     0     0     0     0     0\n",
            "     0     0     0     0     0     0     0     0     0     0     0     0\n",
            "     0     0     0     0     0     0     0     0     0     0     0     0\n",
            "     0     0     0     0     0     0     0     0     0     0     0     0\n",
            "     0     0     0     0     0     0     0     0     0     0     0     0\n",
            "     0     0     0     0     0     0     0     0     0     0     0     0\n",
            "     0     0     0     0     0     0     0     0     0     0     0     0\n",
            "     0     0     0     0     0     0     0     0     0     0     0     0\n",
            "     0     0     0     0     0     0     0     0     0     0     0     0\n",
            "     0     0     0     0     0     0     0     0     0     0     0     0\n",
            "     0     0     0     0     0     0     0     0     0     0     0     0\n",
            "     0     0     0     0     0     0     0     0     0     0     0     0\n",
            "     0     0     0     0     0     0     0     0     0     0     0     0\n",
            "     0     0     0     0     0     0     0     0     0     0     0     0\n",
            "     0     0     0     0     0     0     0     0     0     0     0     0\n",
            "     0     0     0     0     0     0     0     0     0     0     0     0\n",
            "     0  4686  1454   100   698   675    62     4     4  1245     4     4\n",
            "   191   244    10    71   218    28   214   166 11683 17919   827 11683\n",
            " 11684 17920    13  2663   462  2065   113    28   550     4    19 17921\n",
            "   798   134  1245    36    20   481   148   135   224   162    96  2066\n",
            "    80  4110  2067   381     3   224   462    98    16   760   397    96\n",
            "    54   293]\n"
          ]
        }
      ]
    },
    {
      "cell_type": "code",
      "source": [
        "with tf.device('/gpu:0'):\n",
        "    import keras\n",
        "    from keras.layers import Conv1D,MaxPooling1D,Flatten,Dense,Dropout,Embedding\n",
        "\n",
        "    max_words_len=350\n",
        "    #def create_Att_Model(max_words_len, embedding_size, embedding_matrix):\n",
        "    encoder_input=keras.Input(shape=(max_words_len,),)\n",
        "    encoder_embedding = Embedding(vocab_size, embedding_dim, input_length=max_length)\n",
        "\n",
        "\n",
        "    encoder_embedding_layer=encoder_embedding(encoder_input)\n",
        "    #layer1=Bidirectional(LSTM(NN_dim_1,return_sequences=True))\n",
        "    #encoder_output=layer1(encoder_embedding_layer)\n",
        "\n",
        "    conv1D_1=Conv1D(512, 4, activation='relu',name='con1')(encoder_embedding_layer)\n",
        "    maxPool1D_1=MaxPooling1D(pool_size=2,name='maxpool1')(conv1D_1)\n",
        "\n",
        "    conv1D_2=Conv1D(256, 3, activation='relu',name='con2')(maxPool1D_1)\n",
        "    maxPool1D_2=MaxPooling1D(pool_size=2,name='maxpool2')(conv1D_2)\n",
        "\n",
        "    conv1D_3=Conv1D(128, 2, activation='relu',name='con3')(maxPool1D_2)\n",
        "    maxPool1D_3=MaxPooling1D(pool_size=2,name='maxpool3')(conv1D_3)\n",
        "\n",
        "\n",
        "\n",
        "\n",
        "    # Apply Bidirectional LSTM over embedded inputs\n",
        "    lstm_outs = tf.keras.layers.Bidirectional(\n",
        "        keras.layers.LSTM(100, return_sequences=True)\n",
        "    )(maxPool1D_3)\n",
        "\n",
        "    # Attention Mechanism - Generate attention vectors\n",
        "    input_dim = int(lstm_outs.shape[2])\n",
        "    permuted_inputs = keras.layers.Permute((2, 1))(lstm_outs)\n",
        "    attention_vector = keras.layers.TimeDistributed(keras.layers.Dense(1))(lstm_outs)\n",
        "    print(attention_vector.shape)\n",
        "    attention_vector = keras.layers.Reshape((attention_vector.shape[1],))(attention_vector)\n",
        "    attention_vector = keras.layers.Activation('softmax', name='attention_vec')(attention_vector)\n",
        "    attention_output = keras.layers.Dot(axes=1)([lstm_outs, attention_vector])\n",
        "\n",
        "    # Last layer: fully connected with softmax activation\n",
        "    fc = keras.layers.Dense(100, activation='relu')(attention_output)\n",
        "    output = keras.layers.Dense(2, activation='softmax')(fc)\n",
        "\n",
        "    # Finally building model\n",
        "    model = keras.Model(inputs=[encoder_input], outputs=output)\n",
        "    model.compile(loss=\"categorical_crossentropy\", metrics=[\"accuracy\"], optimizer='adam')\n",
        "\n",
        "    # Print model summary\n",
        "    model.summary()\n",
        "\n"
      ],
      "metadata": {
        "id": "qYUyCqjOmRUK",
        "colab": {
          "base_uri": "https://localhost:8080/"
        },
        "outputId": "5eb8e66d-0c1b-41c9-8fc2-786b54ee76d5"
      },
      "execution_count": null,
      "outputs": [
        {
          "output_type": "stream",
          "name": "stdout",
          "text": [
            "(None, 42, 1)\n",
            "Model: \"model\"\n",
            "__________________________________________________________________________________________________\n",
            " Layer (type)                   Output Shape         Param #     Connected to                     \n",
            "==================================================================================================\n",
            " input_1 (InputLayer)           [(None, 350)]        0           []                               \n",
            "                                                                                                  \n",
            " embedding (Embedding)          (None, 350, 300)     7500000     ['input_1[0][0]']                \n",
            "                                                                                                  \n",
            " con1 (Conv1D)                  (None, 347, 512)     614912      ['embedding[0][0]']              \n",
            "                                                                                                  \n",
            " maxpool1 (MaxPooling1D)        (None, 173, 512)     0           ['con1[0][0]']                   \n",
            "                                                                                                  \n",
            " con2 (Conv1D)                  (None, 171, 256)     393472      ['maxpool1[0][0]']               \n",
            "                                                                                                  \n",
            " maxpool2 (MaxPooling1D)        (None, 85, 256)      0           ['con2[0][0]']                   \n",
            "                                                                                                  \n",
            " con3 (Conv1D)                  (None, 84, 128)      65664       ['maxpool2[0][0]']               \n",
            "                                                                                                  \n",
            " maxpool3 (MaxPooling1D)        (None, 42, 128)      0           ['con3[0][0]']                   \n",
            "                                                                                                  \n",
            " bidirectional (Bidirectional)  (None, 42, 200)      183200      ['maxpool3[0][0]']               \n",
            "                                                                                                  \n",
            " time_distributed (TimeDistribu  (None, 42, 1)       201         ['bidirectional[0][0]']          \n",
            " ted)                                                                                             \n",
            "                                                                                                  \n",
            " reshape (Reshape)              (None, 42)           0           ['time_distributed[0][0]']       \n",
            "                                                                                                  \n",
            " attention_vec (Activation)     (None, 42)           0           ['reshape[0][0]']                \n",
            "                                                                                                  \n",
            " dot (Dot)                      (None, 200)          0           ['bidirectional[0][0]',          \n",
            "                                                                  'attention_vec[0][0]']          \n",
            "                                                                                                  \n",
            " dense_1 (Dense)                (None, 100)          20100       ['dot[0][0]']                    \n",
            "                                                                                                  \n",
            " dense_2 (Dense)                (None, 2)            202         ['dense_1[0][0]']                \n",
            "                                                                                                  \n",
            "==================================================================================================\n",
            "Total params: 8,777,751\n",
            "Trainable params: 8,777,751\n",
            "Non-trainable params: 0\n",
            "__________________________________________________________________________________________________\n"
          ]
        }
      ]
    },
    {
      "cell_type": "code",
      "source": [
        "history=model.fit(padded,train_labels,epochs=20,batch_size=256,validation_data=(val_padded,val_labels),use_multiprocessing=True, workers=8)"
      ],
      "metadata": {
        "id": "0O_Kvqg1mVWC",
        "colab": {
          "base_uri": "https://localhost:8080/"
        },
        "outputId": "3a8f5ab8-bc19-419e-fce0-6190022d5fb5"
      },
      "execution_count": null,
      "outputs": [
        {
          "output_type": "stream",
          "name": "stdout",
          "text": [
            "Epoch 1/20\n",
            "17/17 [==============================] - 18s 225ms/step - loss: 0.6729 - accuracy: 0.5686 - val_loss: 0.6741 - val_accuracy: 0.7593\n",
            "Epoch 2/20\n",
            "17/17 [==============================] - 2s 139ms/step - loss: 0.3915 - accuracy: 0.8366 - val_loss: 0.3951 - val_accuracy: 0.8433\n",
            "Epoch 3/20\n",
            "17/17 [==============================] - 2s 139ms/step - loss: 0.1454 - accuracy: 0.9521 - val_loss: 0.3805 - val_accuracy: 0.8881\n",
            "Epoch 4/20\n",
            "17/17 [==============================] - 2s 145ms/step - loss: 0.0669 - accuracy: 0.9818 - val_loss: 0.3149 - val_accuracy: 0.9067\n",
            "Epoch 5/20\n",
            "17/17 [==============================] - 2s 142ms/step - loss: 0.0326 - accuracy: 0.9916 - val_loss: 0.4047 - val_accuracy: 0.8918\n",
            "Epoch 6/20\n",
            "17/17 [==============================] - 2s 140ms/step - loss: 0.0231 - accuracy: 0.9946 - val_loss: 0.3070 - val_accuracy: 0.9123\n",
            "Epoch 7/20\n",
            "17/17 [==============================] - 2s 140ms/step - loss: 0.0150 - accuracy: 0.9963 - val_loss: 0.3394 - val_accuracy: 0.9104\n",
            "Epoch 8/20\n",
            "17/17 [==============================] - 2s 141ms/step - loss: 0.0072 - accuracy: 0.9981 - val_loss: 0.4614 - val_accuracy: 0.9235\n",
            "Epoch 9/20\n",
            "17/17 [==============================] - 2s 144ms/step - loss: 0.0124 - accuracy: 0.9970 - val_loss: 0.4128 - val_accuracy: 0.9142\n",
            "Epoch 10/20\n",
            "17/17 [==============================] - 2s 144ms/step - loss: 0.0131 - accuracy: 0.9965 - val_loss: 0.3462 - val_accuracy: 0.9123\n",
            "Epoch 11/20\n",
            "17/17 [==============================] - 2s 143ms/step - loss: 0.0092 - accuracy: 0.9972 - val_loss: 0.4497 - val_accuracy: 0.9160\n",
            "Epoch 12/20\n",
            "17/17 [==============================] - 2s 142ms/step - loss: 0.0098 - accuracy: 0.9965 - val_loss: 0.4711 - val_accuracy: 0.9049\n",
            "Epoch 13/20\n",
            "17/17 [==============================] - 2s 143ms/step - loss: 0.0056 - accuracy: 0.9984 - val_loss: 0.4104 - val_accuracy: 0.9142\n",
            "Epoch 14/20\n",
            "17/17 [==============================] - 2s 143ms/step - loss: 0.0032 - accuracy: 0.9993 - val_loss: 0.5323 - val_accuracy: 0.9123\n",
            "Epoch 15/20\n",
            "17/17 [==============================] - 2s 144ms/step - loss: 0.0040 - accuracy: 0.9986 - val_loss: 0.5247 - val_accuracy: 0.9142\n",
            "Epoch 16/20\n",
            "17/17 [==============================] - 2s 147ms/step - loss: 0.0041 - accuracy: 0.9986 - val_loss: 0.5157 - val_accuracy: 0.9104\n",
            "Epoch 17/20\n",
            "17/17 [==============================] - 2s 145ms/step - loss: 0.0033 - accuracy: 0.9988 - val_loss: 0.5192 - val_accuracy: 0.9160\n",
            "Epoch 18/20\n",
            "17/17 [==============================] - 2s 145ms/step - loss: 0.0043 - accuracy: 0.9991 - val_loss: 0.4908 - val_accuracy: 0.9216\n",
            "Epoch 19/20\n",
            "17/17 [==============================] - 2s 146ms/step - loss: 0.0021 - accuracy: 0.9991 - val_loss: 0.4765 - val_accuracy: 0.9216\n",
            "Epoch 20/20\n",
            "17/17 [==============================] - 3s 149ms/step - loss: 0.0036 - accuracy: 0.9993 - val_loss: 0.5393 - val_accuracy: 0.9235\n"
          ]
        }
      ]
    },
    {
      "cell_type": "code",
      "source": [
        "print(history.history.keys())\n",
        "loss = history.history['loss']\n",
        "val_loss = history.history['val_loss']\n",
        "plt.plot(loss)\n",
        "plt.plot(val_loss)\n",
        "plt.title('model loss')\n",
        "plt.ylabel('loss')\n",
        "plt.xlabel('epoch')\n",
        "plt.legend(['loss', 'val_loss'])\n",
        "plt.show()\n",
        "\n",
        "accuracy = history.history['accuracy']\n",
        "val_accuracy= history.history['val_accuracy']\n",
        "plt.plot(accuracy)\n",
        "plt.plot(val_accuracy)\n",
        "plt.title('model accuracy')\n",
        "plt.ylabel('accuracy')\n",
        "plt.xlabel('epoch')\n",
        "plt.legend(['accuracy', 'val_accuracy'])\n",
        "plt.show()"
      ],
      "metadata": {
        "colab": {
          "base_uri": "https://localhost:8080/",
          "height": 590
        },
        "id": "-Nu0DOMLFl6C",
        "outputId": "828116c3-a045-42bd-de02-dedee5938c0a"
      },
      "execution_count": null,
      "outputs": [
        {
          "output_type": "stream",
          "name": "stdout",
          "text": [
            "dict_keys(['loss', 'accuracy', 'val_loss', 'val_accuracy'])\n"
          ]
        },
        {
          "output_type": "display_data",
          "data": {
            "text/plain": [
              "<Figure size 432x288 with 1 Axes>"
            ],
            "image/png": "[encoded data removed]"
          },
          "metadata": {
            "needs_background": "light"
          }
        },
        {
          "output_type": "display_data",
          "data": {
            "text/plain": [
              "<Figure size 432x288 with 1 Axes>"
            ],
            "image/png": "[encoded data removed]"
          },
          "metadata": {
            "needs_background": "light"
          }
        }
      ]
    },
    {
      "cell_type": "code",
      "source": [
        "loss_and_metrics = model.evaluate(testing_padded,test_labels,batch_size=256)\n",
        "print(\"The test accuracy is: \"+str(loss_and_metrics[1]))"
      ],
      "metadata": {
        "colab": {
          "base_uri": "https://localhost:8080/"
        },
        "id": "iaedzP0mFqq7",
        "outputId": "bbfe3a84-4eb9-4e02-fe8a-74b1a7aa65ab"
      },
      "execution_count": null,
      "outputs": [
        {
          "output_type": "stream",
          "name": "stdout",
          "text": [
            "3/3 [==============================] - 0s 39ms/step - loss: 0.6657 - accuracy: 0.8825\n",
            "The test accuracy is: 0.8824626803398132\n"
          ]
        }
      ]
    },
    {
      "cell_type": "code",
      "source": [
        "fig, ax = plt.subplots(1, 2, figsize=(10, 3))\n",
        "ax = ax.ravel()\n",
        "\n",
        "for i, met in enumerate(['accuracy', 'loss']):\n",
        "    ax[i].plot(history.history[met])\n",
        "    ax[i].plot(history.history['val_' + met])\n",
        "    ax[i].set_title('Model {}'.format(met))\n",
        "    ax[i].set_xlabel('epochs')\n",
        "    ax[i].set_ylabel(met)\n",
        "    ax[i].legend(['train', 'val']) \n",
        "\n"
      ],
      "metadata": {
        "id": "4N50KnThmu_T",
        "colab": {
          "base_uri": "https://localhost:8080/",
          "height": 241
        },
        "outputId": "31fea83d-cb72-4cb6-d447-571ae60fe5f5"
      },
      "execution_count": null,
      "outputs": [
        {
          "output_type": "display_data",
          "data": {
            "text/plain": [
              "<Figure size 720x216 with 2 Axes>"
            ],
            "image/png": "[encoded data removed]"
          },
          "metadata": {
            "needs_background": "light"
          }
        }
      ]
    },
    {
      "cell_type": "code",
      "source": [
        "# clr=[\"#97523c\",\"#3ca2d0\",\"#1f77b4\",\"#ff7f0e\"]\n",
        "\n",
        "clr=[\"#1f77b4\",\"#ff7f0e\",\"#1f77b4\",\"#ff7f0e\"]\n",
        "# y=1.12\n",
        "\n",
        "fig, ax = plt.subplots(figsize=(5, 3.3))\n",
        "ax.set_yticks([])\n",
        "\n",
        "for i, met in enumerate(['accuracy', 'loss']):\n",
        "    ax.plot(history.history[met],c=clr[i+i])\n",
        "    ax.plot(history.history['val_' + met], c=clr[i+i+1])\n",
        "    # ax.set_title('Model {}'.format(met), pad=16, y=y)\n",
        "    ax.set_title('CNN+LSTM',pad=10)\n",
        "    ax.set_xlabel('epochs')    \n",
        "    ax.set_ylabel(met, labelpad=33)\n",
        "    \n",
        "    ax.legend(['train', 'val'],bbox_to_anchor=(1.4, 1))\n",
        "    ax = ax.twinx()\n",
        "    # y=1\n",
        "    \n",
        "\n",
        "\n",
        "    # ax.get_yaxis().set_visible(False)\n",
        "plt.savefig(\"/content/drive/MyDrive/Data712/BF/cnn+lstmAL_SVG.svg\")\n",
        "\n"
      ],
      "metadata": {
        "id": "ibAChJMeCCAy",
        "colab": {
          "base_uri": "https://localhost:8080/",
          "height": 261
        },
        "outputId": "32175978-7dc0-4a79-88a7-292c96b16617"
      },
      "execution_count": null,
      "outputs": [
        {
          "output_type": "display_data",
          "data": {
            "text/plain": [
              "<Figure size 360x237.6 with 3 Axes>"
            ],
            "image/png": "[encoded data removed]"
          },
          "metadata": {
            "needs_background": "light"
          }
        }
      ]
    },
    {
      "cell_type": "code",
      "source": [
        "# clr=[\"#97523c\",\"#3ca2d0\",\"#1f77b4\",\"#ff7f0e\"]\n",
        "# fig, ax1 = plt.subplots(figsize=(5, 3.3))\n",
        "# ax = ax1.twinx()\n",
        "\n",
        "# for i, met in enumerate(['accuracy', 'loss']):\n",
        "#     ax.plot(history.history[met],c=clr[i+i])\n",
        "#     ax.plot(history.history['val_' + met], c=clr[i+i+1])\n",
        "#     ax.set_title('Model {}'.format(met))\n",
        "#     ax.set_xlabel('epochs')    \n",
        "#     ax.set_ylabel(met)\n",
        "\n",
        "#     ax.legend(['train', 'val'],bbox_to_anchor=(1.4, 1)) \n"
      ],
      "metadata": {
        "id": "q9ZBslX7eokz"
      },
      "execution_count": null,
      "outputs": []
    },
    {
      "cell_type": "code",
      "source": [
        "y_pred = model.predict(testing_padded)\n",
        "#print(confusion_matrix(y_test,emotion_pred.round()))\n",
        "print(classification_report(test_labels,y_pred.round(),digits=4))\n",
        "print(accuracy_score(y_pred.round(),test_labels))"
      ],
      "metadata": {
        "id": "qbTrtK2-4fZf",
        "colab": {
          "base_uri": "https://localhost:8080/"
        },
        "outputId": "aac6a962-6e9c-41e8-863f-20c978e83e86"
      },
      "execution_count": null,
      "outputs": [
        {
          "output_type": "stream",
          "name": "stdout",
          "text": [
            "17/17 [==============================] - 1s 10ms/step\n",
            "              precision    recall  f1-score   support\n",
            "\n",
            "           0     0.9289    0.8284    0.8757       268\n",
            "           1     0.8451    0.9366    0.8885       268\n",
            "\n",
            "   micro avg     0.8825    0.8825    0.8825       536\n",
            "   macro avg     0.8870    0.8825    0.8821       536\n",
            "weighted avg     0.8870    0.8825    0.8821       536\n",
            " samples avg     0.8825    0.8825    0.8825       536\n",
            "\n",
            "0.8824626865671642\n"
          ]
        }
      ]
    },
    {
      "cell_type": "code",
      "source": [
        "y_pred=np.argmax(y_pred, axis=1)\n",
        "y_test=np.argmax(test_labels, axis=1)\n",
        "cm = confusion_matrix(y_test, y_pred)\n",
        "print(cm)"
      ],
      "metadata": {
        "id": "Gbhe5UXq7I4_",
        "colab": {
          "base_uri": "https://localhost:8080/"
        },
        "outputId": "b2b9754d-abaf-4b81-aadf-358048c0e8ac"
      },
      "execution_count": null,
      "outputs": [
        {
          "output_type": "stream",
          "name": "stdout",
          "text": [
            "[[232  36]\n",
            " [ 14 254]]\n"
          ]
        }
      ]
    },
    {
      "cell_type": "code",
      "source": [
        "def plot_history(hist):\n",
        "    loss = hist.history['loss']\n",
        "    accuracy = hist.history['accuracy']\n",
        "    val_loss = hist.history['val_loss']\n",
        "    val_accuracy = hist.history['val_accuracy']\n",
        "    x = range(1, len(loss) + 1)\n",
        "\n",
        "    plt.figure(figsize=(12, 5))\n",
        "    plt.subplot(1, 2, 1)\n",
        "    plt.plot(x, accuracy, label='Training acc', color='#707bfb')\n",
        "    plt.plot(x, val_accuracy, label='Validation acc', color='#fbcbff')\n",
        "    plt.title('Training and validation accuracy')\n",
        "    plt.grid(True)\n",
        "    plt.legend()\n",
        "    \n",
        "    plt.subplot(1, 2, 2)\n",
        "    plt.plot(x, loss, label='Training loss', color='#707bfb')\n",
        "    plt.plot(x, val_loss, label='Validation loss', color='#fbcbff')\n",
        "    plt.title('Training and validation loss')\n",
        "    plt.grid(True)\n",
        "    plt.legend()"
      ],
      "metadata": {
        "id": "jD5I2GOj8YzR"
      },
      "execution_count": null,
      "outputs": []
    },
    {
      "cell_type": "code",
      "source": [
        "plot_history(history)"
      ],
      "metadata": {
        "id": "Qc6I6uol8axJ",
        "colab": {
          "base_uri": "https://localhost:8080/",
          "height": 336
        },
        "outputId": "bd27cfce-28ad-49b5-d35e-b7b0b3a4bbdc"
      },
      "execution_count": null,
      "outputs": [
        {
          "output_type": "display_data",
          "data": {
            "text/plain": [
              "<Figure size 864x360 with 2 Axes>"
            ],
            "image/png": "[encoded data removed]"
          },
          "metadata": {
            "needs_background": "light"
          }
        }
      ]
    },
    {
      "cell_type": "code",
      "source": [
        "# setting a custom colormap\n",
        "from matplotlib.colors import LinearSegmentedColormap\n",
        "colors = ['#ffffff', '#fbcbff', '#707bfb']\n",
        "cmap = LinearSegmentedColormap.from_list('mycmap', colors)"
      ],
      "metadata": {
        "id": "JMrQfmmmDCOL"
      },
      "execution_count": null,
      "outputs": []
    },
    {
      "cell_type": "code",
      "source": [
        "def plot_confusion_matrix(matrix, fmt=''):\n",
        "\n",
        "  plt.figure(figsize=(4, 3))\n",
        "  sns.heatmap(matrix, annot=True, \n",
        "              cmap=cmap, \n",
        "              fmt=fmt)\n",
        "  plt.ylabel('True labels')\n",
        "  plt.xlabel('Predicted labels')\n",
        "  plt.savefig(\"/content/drive/MyDrive/Data712/BF/cnn+lstmCF_SVG.svg\")\n",
        "  plt.show()\n"
      ],
      "metadata": {
        "id": "-hR3hcd8Ct2q"
      },
      "execution_count": null,
      "outputs": []
    },
    {
      "cell_type": "code",
      "source": [
        "matrix = confusion_matrix(y_test, y_pred)\n",
        "plot_confusion_matrix(matrix)"
      ],
      "metadata": {
        "id": "99O-wu9lCvYy",
        "colab": {
          "base_uri": "https://localhost:8080/",
          "height": 226
        },
        "outputId": "19285594-98d7-4781-dbba-dd07e186e826"
      },
      "execution_count": null,
      "outputs": [
        {
          "output_type": "display_data",
          "data": {
            "text/plain": [
              "<Figure size 288x216 with 2 Axes>"
            ],
            "image/png": "[encoded data removed]"
          },
          "metadata": {
            "needs_background": "light"
          }
        }
      ]
    },
    {
      "cell_type": "code",
      "source": [
        "import pandas as pd\n",
        "df=pd.DataFrame(history.history)"
      ],
      "metadata": {
        "id": "3hK-o1wxKDjZ"
      },
      "execution_count": null,
      "outputs": []
    },
    {
      "cell_type": "code",
      "source": [
        "df.to_csv(\"/content/drive/MyDrive/Data712/BF/hist2.csv\")"
      ],
      "metadata": {
        "id": "3zvxd-I9JjKu"
      },
      "execution_count": null,
      "outputs": []
    },
    {
      "cell_type": "code",
      "source": [],
      "metadata": {
        "id": "nNcaxJdJSh2n"
      },
      "execution_count": null,
      "outputs": []
    }
  ]
}